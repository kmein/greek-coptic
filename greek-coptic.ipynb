{
 "cells": [
  {
   "cell_type": "markdown",
   "id": "d9731e0b-b5d7-46c5-884f-fa25af2f26a2",
   "metadata": {},
   "source": [
    "# Preamble\n",
    "\n",
    "TODO\n",
    "\n",
    "## Setup\n",
    "### Imports\n",
    "\n"
   ]
  },
  {
   "cell_type": "code",
   "execution_count": 1,
   "id": "2a85d51a-7ba6-435f-b530-6ebfefff02b1",
   "metadata": {},
   "outputs": [],
   "source": [
    "import itertools\n",
    "import unicodedata\n",
    "import re\n",
    "import os\n",
    "from pathlib import Path\n",
    "import math\n",
    "\n",
    "import pandas as pd\n",
    "import matplotlib.pyplot as plt\n",
    "import seaborn as sns\n",
    "import numpy as np\n",
    "import scipy.stats\n",
    "import tabulate\n",
    "from  matplotlib.ticker import FuncFormatter\n",
    "import networkx as nx"
   ]
  },
  {
   "cell_type": "markdown",
   "id": "fdfd03f7-f98f-4b24-aed0-b119da0e032a",
   "metadata": {},
   "source": [
    "### Helper Functions"
   ]
  },
  {
   "cell_type": "code",
   "execution_count": 2,
   "id": "6f9dbaf6-9ef4-4a6f-bdfa-c1e051fe513b",
   "metadata": {},
   "outputs": [],
   "source": [
    "def flatmap(func, *iterable):\n",
    "    return itertools.chain.from_iterable(map(func, *iterable))"
   ]
  },
  {
   "cell_type": "markdown",
   "id": "984ce8a2-1f9d-4179-a616-29c6c9b12051",
   "metadata": {},
   "source": [
    "### Style\n",
    "\n",
    "We configure a heatmap/colour scheme for tables, set a theme for plots and configure the numbers to conform to German customs."
   ]
  },
  {
   "cell_type": "code",
   "execution_count": 3,
   "id": "9896b1cb-8504-4fd7-bed8-ae0ecbd47507",
   "metadata": {},
   "outputs": [],
   "source": [
    "cm = plt.cm.YlOrRd\n",
    "sns.set_style(\"whitegrid\")\n",
    "pd.set_option(\"styler.format.decimal\", \",\")\n",
    "pd.set_option(\"styler.format.precision\", 2)\n",
    "pd.set_option(\"styler.format.na_rep\", \"–\")"
   ]
  },
  {
   "cell_type": "markdown",
   "id": "8cb07163-99d4-4768-a015-f0a61fcf23f8",
   "metadata": {},
   "source": [
    "### Assets Export\n",
    "\n",
    "Finally, we want to set up functions for writing tables and figures to external files, so they can be included in a document."
   ]
  },
  {
   "cell_type": "code",
   "execution_count": 4,
   "id": "1731b12b-71e9-4861-a5de-6e41833fcc76",
   "metadata": {},
   "outputs": [],
   "source": [
    "subdirectory = Path(\"assets\")\n",
    "subdirectory.mkdir(exist_ok=True)\n",
    "\n",
    "def write_figure(the_name):\n",
    "    plt.savefig(subdirectory / f\"figure-{the_name}.svg\")\n",
    "\n",
    "def write_table(df, the_name, caption=\"\", heatmap=False, axis=None):\n",
    "    style = df.style if not heatmap else df.style.background_gradient(axis=axis, cmap=cm)\n",
    "    with (subdirectory / f\"table-{the_name}.tex\").open(mode=\"w\") as f:\n",
    "        f.write(\n",
    "            (style).highlight_null(props=\"background-color:white; color:white;\").to_latex(\n",
    "                convert_css=True, \n",
    "                hrules=True,\n",
    "                sparse_index=False,\n",
    "                environment=\"longtable\", \n",
    "                position=\"!hbt\", \n",
    "                caption=caption, \n",
    "                label=\"tbl:\"+the_name\n",
    "            )\n",
    "        )\n",
    "    with (subdirectory / f\"table-{the_name}.html\").open(mode=\"w\") as f:\n",
    "        f.write((style).highlight_null(props=\"opacity:0\").to_html(sparse_index=False))\n",
    "    with (subdirectory / f\"table-{the_name}.md\").open(mode=\"w\") as f:\n",
    "        if caption:\n",
    "            f.write(f\"Table: {caption}\\n\\n\")\n",
    "        f.write(df.to_markdown(floatfmt=\".2f\").replace(\"nan\", \"\\u00a0\").replace(\".00\", \"   \").replace(\".\", \",\")) #ma"
   ]
  },
  {
   "cell_type": "markdown",
   "id": "d1e62a76-5e9e-4990-aea0-88da2f2aac71",
   "metadata": {},
   "source": [
    "### Greek/Coptic Alphabet\n",
    "We also define a table mapping Unicode Greek letters to Unicode Coptic letters.\n",
    "See [here](#greek-transliteration) for more info."
   ]
  },
  {
   "cell_type": "code",
   "execution_count": 5,
   "id": "4f141bcd-f2f8-46ed-a087-50e3011d31fd",
   "metadata": {},
   "outputs": [],
   "source": [
    "greek_to_coptic = {\n",
    "  'α': 'ⲁ',\n",
    "  'β': 'ⲃ',\n",
    "  'γ': 'ⲅ', \n",
    "  'δ': 'ⲇ',\n",
    "  'ε': 'ⲉ',\n",
    "  'ζ': 'ⲍ',\n",
    "  'η': 'ⲏ',\n",
    "  'θ': 'ⲑ',\n",
    "  'ϑ': 'ⲑ',\n",
    "  'ι': 'ⲓ',\n",
    "  'κ': 'ⲕ',\n",
    "  'λ': 'ⲗ',\n",
    "  'μ': 'ⲙ',\n",
    "  'ν': 'ⲛ',\n",
    "  'ξ': 'ⲝ',\n",
    "  'ο': 'ⲟ',\n",
    "  'π': 'ⲡ',\n",
    "  'ρ': 'ⲣ',\n",
    "  'σ': 'ⲥ',\n",
    "  'τ': 'ⲧ',\n",
    "  'υ': 'ⲩ',\n",
    "  'φ': 'ⲫ',\n",
    "  'χ': 'ⲭ',\n",
    "  'ψ': 'ⲯ',\n",
    "  'ω': 'ⲱ',\n",
    "  'ς': 'ⲥ',\n",
    "  'ϗ': 'ⳤ',\n",
    "  '\\u0314': 'ϩ',\n",
    "  '\\u0345': 'ⲓ',\n",
    "}\n",
    "\n",
    "greek_to_coptic_ord = {ord(greek): ord(coptic) for greek, coptic in greek_to_coptic.items()}"
   ]
  },
  {
   "cell_type": "markdown",
   "id": "f8226607-94fb-46b1-9736-dd3ac846dfef",
   "metadata": {},
   "source": [
    "# Data Processing\n",
    "\n",
    "## Importing the Data\n",
    "The CSV file we are going to use contains a large corpus of Greek words and their concrete spellings within Coptic texts, about 200K occurrences."
   ]
  },
  {
   "cell_type": "code",
   "execution_count": 6,
   "id": "b48d41db-1ce9-4a35-8153-dcd79fcee2ec",
   "metadata": {
    "editable": true,
    "slideshow": {
     "slide_type": ""
    },
    "tags": []
   },
   "outputs": [
    {
     "name": "stderr",
     "output_type": "stream",
     "text": [
      "/tmp/ipykernel_2319506/345480005.py:1: DtypeWarning: Columns (15) have mixed types. Specify dtype option on import or set low_memory=False.\n",
      "  df = pd.read_csv(os.getenv(\"ATTESTATIONS_CSV\")) \\\n"
     ]
    }
   ],
   "source": [
    "df = pd.read_csv(os.getenv(\"ATTESTATIONS_CSV\")) \\\n",
    "    .set_index(\"id\") \\\n",
    "    .drop(columns=[\"dialect\"]) \\\n",
    "    .rename(columns={\"code\": \"dialect\"})"
   ]
  },
  {
   "cell_type": "markdown",
   "id": "0a7a0b0b-6ea3-4243-9432-8b682535cff6",
   "metadata": {},
   "source": [
    "Here are some random examples of these data points:"
   ]
  },
  {
   "cell_type": "code",
   "execution_count": 7,
   "id": "e343bbef-245a-4981-9f05-40df192513fa",
   "metadata": {},
   "outputs": [
    {
     "data": {
      "text/html": [
       "<div>\n",
       "<style scoped>\n",
       "    .dataframe tbody tr th:only-of-type {\n",
       "        vertical-align: middle;\n",
       "    }\n",
       "\n",
       "    .dataframe tbody tr th {\n",
       "        vertical-align: top;\n",
       "    }\n",
       "\n",
       "    .dataframe thead th {\n",
       "        text-align: right;\n",
       "    }\n",
       "</style>\n",
       "<table border=\"1\" class=\"dataframe\">\n",
       "  <thead>\n",
       "    <tr style=\"text-align: right;\">\n",
       "      <th></th>\n",
       "      <th>quote_coptic</th>\n",
       "      <th>quote_english</th>\n",
       "      <th>orthography</th>\n",
       "      <th>encoding</th>\n",
       "      <th>coptic_lemma_id</th>\n",
       "      <th>coptic_lemma</th>\n",
       "      <th>coptic_lemma2</th>\n",
       "      <th>greek_lemma_id</th>\n",
       "      <th>greek_lemma</th>\n",
       "      <th>edition</th>\n",
       "      <th>manuscript_text</th>\n",
       "      <th>earliest</th>\n",
       "      <th>latest</th>\n",
       "      <th>?</th>\n",
       "      <th>collection</th>\n",
       "      <th>material</th>\n",
       "      <th>dialectCode</th>\n",
       "      <th>dialect_group</th>\n",
       "      <th>dialect</th>\n",
       "      <th>name</th>\n",
       "    </tr>\n",
       "    <tr>\n",
       "      <th>id</th>\n",
       "      <th></th>\n",
       "      <th></th>\n",
       "      <th></th>\n",
       "      <th></th>\n",
       "      <th></th>\n",
       "      <th></th>\n",
       "      <th></th>\n",
       "      <th></th>\n",
       "      <th></th>\n",
       "      <th></th>\n",
       "      <th></th>\n",
       "      <th></th>\n",
       "      <th></th>\n",
       "      <th></th>\n",
       "      <th></th>\n",
       "      <th></th>\n",
       "      <th></th>\n",
       "      <th></th>\n",
       "      <th></th>\n",
       "      <th></th>\n",
       "    </tr>\n",
       "  </thead>\n",
       "  <tbody>\n",
       "    <tr>\n",
       "      <th>31675</th>\n",
       "      <td>ⲉⲧⲃⲉ ⲧⲏ|ⲛⲉ ⲁⲡⲓⲛⲉ ⲙ︤ⲡ︥ⲡ︤[ⲛⲉⲩ]ⲙ︦ⲁ︥ ⲟⲩⲱⲛ︤ϩ︥ ⲉⲃⲟⲗ ...</td>\n",
       "      <td>For your sake.the Spirit appeared in the earth...</td>\n",
       "      <td>ⲅⲁⲣ</td>\n",
       "      <td>2fun</td>\n",
       "      <td>533</td>\n",
       "      <td>ⲅⲁⲣ</td>\n",
       "      <td>ⲅⲁⲣ</td>\n",
       "      <td>415</td>\n",
       "      <td>γάρ</td>\n",
       "      <td>Wisse 1996</td>\n",
       "      <td>Nag Hammadi Codex VII - Paraphrase of Sēem, The</td>\n",
       "      <td>NaN</td>\n",
       "      <td>NaN</td>\n",
       "      <td>NaN</td>\n",
       "      <td>NaN</td>\n",
       "      <td>NaN</td>\n",
       "      <td>S</td>\n",
       "      <td>Sahidic Dialects</td>\n",
       "      <td>S</td>\n",
       "      <td>Sahidic</td>\n",
       "    </tr>\n",
       "    <tr>\n",
       "      <th>99259</th>\n",
       "      <td>ⲓ̈ⲥⲱⲛ ⲟⲣⲕⲟⲩ ϣ̣ⲉ ⲡⲉϥⲧⲟⲟⲩ ⲛ̄ⲉⲩⲁⲅⲅⲉⲗⲓⲟⲛ ⲉⲧⲟⲩⲁⲁⲃ |...</td>\n",
       "      <td>Copy of the oath: By the four holy Gospels and...</td>\n",
       "      <td>ⲕⲁⲥⲧⲣⲟ̣ⲛ</td>\n",
       "      <td>nn.m.sg.dtd</td>\n",
       "      <td>1204</td>\n",
       "      <td>ⲕⲁⲥⲧⲣⲟⲛ</td>\n",
       "      <td>ⲕⲁⲥⲧⲣⲟⲛ</td>\n",
       "      <td>1047</td>\n",
       "      <td>κάστρον</td>\n",
       "      <td>Schiller 1932</td>\n",
       "      <td>London - British Library Or. 9525 - P.CLT 5 (D...</td>\n",
       "      <td>NaN</td>\n",
       "      <td>NaN</td>\n",
       "      <td>711/2</td>\n",
       "      <td>London - British Library Or. 9525</td>\n",
       "      <td>Papyrus</td>\n",
       "      <td>S</td>\n",
       "      <td>Sahidic Dialects</td>\n",
       "      <td>S</td>\n",
       "      <td>Sahidic</td>\n",
       "    </tr>\n",
       "    <tr>\n",
       "      <th>115766</th>\n",
       "      <td>Ⲁϥⲟⲩⲱϣϥ ⲛϭⲓ ⲡ|ⲥⲱⲧⲏⲣ ⲡⲉϫⲁϥ | ϫⲉ ⲱ ⲓ̈ⲱϩⲁⲛⲛⲏⲥ | ⲡ...</td>\n",
       "      <td>The Savior responded.saying.\"O John whom I lov...</td>\n",
       "      <td>Ⲁⲗⲗⲁ</td>\n",
       "      <td>1fun-ind.nc</td>\n",
       "      <td>129</td>\n",
       "      <td>ⲁⲗⲗⲁ</td>\n",
       "      <td>ⲁⲗⲗⲁ</td>\n",
       "      <td>95</td>\n",
       "      <td>ἀλλά</td>\n",
       "      <td>Müller/Uljas 2019</td>\n",
       "      <td>New York - The Morgan Library and Museum M.583...</td>\n",
       "      <td>NaN</td>\n",
       "      <td>NaN</td>\n",
       "      <td>Amshir 13 564 AM = February 8 848 AD</td>\n",
       "      <td>New York - The Morgan Library and Museum M.583</td>\n",
       "      <td>Parchment</td>\n",
       "      <td>S</td>\n",
       "      <td>Sahidic Dialects</td>\n",
       "      <td>S</td>\n",
       "      <td>Sahidic</td>\n",
       "    </tr>\n",
       "    <tr>\n",
       "      <th>5944</th>\n",
       "      <td>ⲡⲙⲛⲧⲟⲩⲉ̇ⲉ̇ ⲇⲉ ⲙ̇^ⲙⲁ|ⲑⲏⲧⲏⲥ^ ϩⲁⲩϣⲉ ⲛⲉⲩ | ⲉ̇ϩⲣⲏⲓ̈...</td>\n",
       "      <td>And the eleven ^disciples^ went up on the moun...</td>\n",
       "      <td>ⲙⲁ|ⲑⲏⲧⲏⲥ</td>\n",
       "      <td>nn.m-env.sg-env.dtd-env.cnst25</td>\n",
       "      <td>1521</td>\n",
       "      <td>ⲙⲁⲑⲏⲧⲏⲥ</td>\n",
       "      <td>ⲙⲁⲑⲏⲧⲏⲥ</td>\n",
       "      <td>1334</td>\n",
       "      <td>μαθητής</td>\n",
       "      <td>Schenke 1981</td>\n",
       "      <td>Princeton - Private collection Scheide MS 144 ...</td>\n",
       "      <td>400.0</td>\n",
       "      <td>499.0</td>\n",
       "      <td>NaN</td>\n",
       "      <td>Princeton - Private collection Scheide MS 1443</td>\n",
       "      <td>Parchment</td>\n",
       "      <td>M5</td>\n",
       "      <td>Middle Egyptian Dialects</td>\n",
       "      <td>M</td>\n",
       "      <td>NaN</td>\n",
       "    </tr>\n",
       "    <tr>\n",
       "      <th>31523</th>\n",
       "      <td>ⲁⲕⲟⲩⲱϩ ϩⲛ ⲟⲩⲟⲟⲧⲉ ⲙ̄|^ⲡⲁⲣⲑⲉⲛⲓ̈ⲕⲏ^</td>\n",
       "      <td>You have stayed in a ^virginal^ womb</td>\n",
       "      <td>ⲡⲁⲣⲑⲉⲛⲓ̈ⲕⲏ</td>\n",
       "      <td>nn.gen0.num0.dt0.refP.cnst3</td>\n",
       "      <td>3788</td>\n",
       "      <td>ⲡⲁⲣⲑⲉⲛⲓⲕⲏ</td>\n",
       "      <td>ⲡⲁⲣⲑⲉⲛⲓⲕⲏ</td>\n",
       "      <td>3471</td>\n",
       "      <td>παρθενικός</td>\n",
       "      <td>Lanne 1958</td>\n",
       "      <td>Great Prayerbook of Wh. Mon. - Anaphora of St....</td>\n",
       "      <td>NaN</td>\n",
       "      <td>NaN</td>\n",
       "      <td>NaN</td>\n",
       "      <td>NaN</td>\n",
       "      <td>NaN</td>\n",
       "      <td>S</td>\n",
       "      <td>Sahidic Dialects</td>\n",
       "      <td>S</td>\n",
       "      <td>Sahidic</td>\n",
       "    </tr>\n",
       "  </tbody>\n",
       "</table>\n",
       "</div>"
      ],
      "text/plain": [
       "                                             quote_coptic  \\\n",
       "id                                                          \n",
       "31675   ⲉⲧⲃⲉ ⲧⲏ|ⲛⲉ ⲁⲡⲓⲛⲉ ⲙ︤ⲡ︥ⲡ︤[ⲛⲉⲩ]ⲙ︦ⲁ︥ ⲟⲩⲱⲛ︤ϩ︥ ⲉⲃⲟⲗ ...   \n",
       "99259   ⲓ̈ⲥⲱⲛ ⲟⲣⲕⲟⲩ ϣ̣ⲉ ⲡⲉϥⲧⲟⲟⲩ ⲛ̄ⲉⲩⲁⲅⲅⲉⲗⲓⲟⲛ ⲉⲧⲟⲩⲁⲁⲃ |...   \n",
       "115766  Ⲁϥⲟⲩⲱϣϥ ⲛϭⲓ ⲡ|ⲥⲱⲧⲏⲣ ⲡⲉϫⲁϥ | ϫⲉ ⲱ ⲓ̈ⲱϩⲁⲛⲛⲏⲥ | ⲡ...   \n",
       "5944    ⲡⲙⲛⲧⲟⲩⲉ̇ⲉ̇ ⲇⲉ ⲙ̇^ⲙⲁ|ⲑⲏⲧⲏⲥ^ ϩⲁⲩϣⲉ ⲛⲉⲩ | ⲉ̇ϩⲣⲏⲓ̈...   \n",
       "31523                    ⲁⲕⲟⲩⲱϩ ϩⲛ ⲟⲩⲟⲟⲧⲉ ⲙ̄|^ⲡⲁⲣⲑⲉⲛⲓ̈ⲕⲏ^   \n",
       "\n",
       "                                            quote_english orthography  \\\n",
       "id                                                                      \n",
       "31675   For your sake.the Spirit appeared in the earth...         ⲅⲁⲣ   \n",
       "99259   Copy of the oath: By the four holy Gospels and...    ⲕⲁⲥⲧⲣⲟ̣ⲛ   \n",
       "115766  The Savior responded.saying.\"O John whom I lov...        Ⲁⲗⲗⲁ   \n",
       "5944    And the eleven ^disciples^ went up on the moun...    ⲙⲁ|ⲑⲏⲧⲏⲥ   \n",
       "31523                You have stayed in a ^virginal^ womb  ⲡⲁⲣⲑⲉⲛⲓ̈ⲕⲏ   \n",
       "\n",
       "                              encoding  coptic_lemma_id coptic_lemma  \\\n",
       "id                                                                     \n",
       "31675                             2fun              533          ⲅⲁⲣ   \n",
       "99259                      nn.m.sg.dtd             1204      ⲕⲁⲥⲧⲣⲟⲛ   \n",
       "115766                     1fun-ind.nc              129         ⲁⲗⲗⲁ   \n",
       "5944    nn.m-env.sg-env.dtd-env.cnst25             1521      ⲙⲁⲑⲏⲧⲏⲥ   \n",
       "31523      nn.gen0.num0.dt0.refP.cnst3             3788    ⲡⲁⲣⲑⲉⲛⲓⲕⲏ   \n",
       "\n",
       "       coptic_lemma2  greek_lemma_id greek_lemma               edition  \\\n",
       "id                                                                       \n",
       "31675            ⲅⲁⲣ             415         γάρ         Wisse 1996\n",
       "\n",
       "\n",
       "   \n",
       "99259        ⲕⲁⲥⲧⲣⲟⲛ            1047     κάστρον      Schiller 1932\n",
       "\n",
       "\n",
       "   \n",
       "115766          ⲁⲗⲗⲁ              95        ἀλλά  Müller/Uljas 2019\n",
       "\n",
       "\n",
       "   \n",
       "5944         ⲙⲁⲑⲏⲧⲏⲥ            1334    μαθητής       Schenke 1981\n",
       "\n",
       "\n",
       "   \n",
       "31523      ⲡⲁⲣⲑⲉⲛⲓⲕⲏ            3471  παρθενικός         Lanne 1958\n",
       "\n",
       "\n",
       "   \n",
       "\n",
       "                                          manuscript_text  earliest  latest  \\\n",
       "id                                                                            \n",
       "31675     Nag Hammadi Codex VII - Paraphrase of Sēem, The       NaN     NaN   \n",
       "99259   London - British Library Or. 9525 - P.CLT 5 (D...       NaN     NaN   \n",
       "115766  New York - The Morgan Library and Museum M.583...       NaN     NaN   \n",
       "5944    Princeton - Private collection Scheide MS 144 ...     400.0   499.0   \n",
       "31523   Great Prayerbook of Wh. Mon. - Anaphora of St....       NaN     NaN   \n",
       "\n",
       "                                           ?  \\\n",
       "id                                             \n",
       "31675                                    NaN   \n",
       "99259                                  711/2   \n",
       "115766  Amshir 13 564 AM = February 8 848 AD   \n",
       "5944                                     NaN   \n",
       "31523                                    NaN   \n",
       "\n",
       "                                            collection   material dialectCode  \\\n",
       "id                                                                              \n",
       "31675                                              NaN        NaN           S   \n",
       "99259                London - British Library Or. 9525    Papyrus           S   \n",
       "115766  New York - The Morgan Library and Museum M.583  Parchment           S   \n",
       "5944    Princeton - Private collection Scheide MS 1443  Parchment          M5   \n",
       "31523                                              NaN        NaN           S   \n",
       "\n",
       "                   dialect_group dialect     name  \n",
       "id                                                 \n",
       "31675           Sahidic Dialects       S  Sahidic  \n",
       "99259           Sahidic Dialects       S  Sahidic  \n",
       "115766          Sahidic Dialects       S  Sahidic  \n",
       "5944    Middle Egyptian Dialects       M      NaN  \n",
       "31523           Sahidic Dialects       S  Sahidic  "
      ]
     },
     "execution_count": 7,
     "metadata": {},
     "output_type": "execute_result"
    }
   ],
   "source": [
    "df.sample(5)"
   ]
  },
  {
   "cell_type": "markdown",
   "id": "071f9ee5-c97e-4606-b3da-a884a3b4f3f3",
   "metadata": {},
   "source": [
    "## Exploring the Data\n",
    "\n",
    "### Dates of the Texts\n",
    "The data points originate from texts scattered across multiple centuries.\n",
    "These are the texts, together with a plausible date range (if available):"
   ]
  },
  {
   "cell_type": "code",
   "execution_count": 8,
   "id": "5f30bd4b-507d-4d5c-811c-e1af584c162d",
   "metadata": {},
   "outputs": [
    {
     "data": {
      "text/html": [
       "<div>\n",
       "<style scoped>\n",
       "    .dataframe tbody tr th:only-of-type {\n",
       "        vertical-align: middle;\n",
       "    }\n",
       "\n",
       "    .dataframe tbody tr th {\n",
       "        vertical-align: top;\n",
       "    }\n",
       "\n",
       "    .dataframe thead th {\n",
       "        text-align: right;\n",
       "    }\n",
       "</style>\n",
       "<table border=\"1\" class=\"dataframe\">\n",
       "  <thead>\n",
       "    <tr style=\"text-align: right;\">\n",
       "      <th></th>\n",
       "      <th>earliest</th>\n",
       "      <th>latest</th>\n",
       "    </tr>\n",
       "    <tr>\n",
       "      <th>manuscript_text</th>\n",
       "      <th></th>\n",
       "      <th></th>\n",
       "    </tr>\n",
       "  </thead>\n",
       "  <tbody>\n",
       "    <tr>\n",
       "      <th>Cambridge - Bible Society's Library pap. Q - Gospel of John</th>\n",
       "      <td>200.0</td>\n",
       "      <td>299.0</td>\n",
       "    </tr>\n",
       "    <tr>\n",
       "      <th>Papyrus Nag Hammadi C 002 - Genesis</th>\n",
       "      <td>200.0</td>\n",
       "      <td>399.0</td>\n",
       "    </tr>\n",
       "    <tr>\n",
       "      <th>London - British Library Or 4919(5) - Lamentations</th>\n",
       "      <td>NaN</td>\n",
       "      <td>NaN</td>\n",
       "    </tr>\n",
       "    <tr>\n",
       "      <th>Leipzig - Universität - Papyrus- und Ostrakasammlung P.Lips. Inv. 2299 - Exodus Apocryphon</th>\n",
       "      <td>200.0</td>\n",
       "      <td>499.0</td>\n",
       "    </tr>\n",
       "    <tr>\n",
       "      <th>Moscow - Pushkin Museum I.1.b.523 - P.MoscowCopt 90</th>\n",
       "      <td>200.0</td>\n",
       "      <td>1119.0</td>\n",
       "    </tr>\n",
       "    <tr>\n",
       "      <th>...</th>\n",
       "      <td>...</td>\n",
       "      <td>...</td>\n",
       "    </tr>\n",
       "    <tr>\n",
       "      <th>Berlin - Ägyptisches Museum P. 8324 - BKU I 18 (Healing amulet)</th>\n",
       "      <td>NaN</td>\n",
       "      <td>699.0</td>\n",
       "    </tr>\n",
       "    <tr>\n",
       "      <th>London - British Library Or. 5525 - P.Lond.Copt. 1 524 (magical text to protect a woman and her children)</th>\n",
       "      <td>NaN</td>\n",
       "      <td>899.0</td>\n",
       "    </tr>\n",
       "    <tr>\n",
       "      <th>London - British Library Or. 6800 - Colophon with prayer for Mena bishop of Keft</th>\n",
       "      <td>1000.0</td>\n",
       "      <td>1033.0</td>\n",
       "    </tr>\n",
       "    <tr>\n",
       "      <th>Paris - Bibliothèque Nationale Copte 132.1.67 - Colophon by Kalamon, the Deacon</th>\n",
       "      <td>925.0</td>\n",
       "      <td>949.0</td>\n",
       "    </tr>\n",
       "    <tr>\n",
       "      <th>Khartum - National Museum 24338 - Foundation inscription of Bishop Paulos</th>\n",
       "      <td>700.0</td>\n",
       "      <td>719.0</td>\n",
       "    </tr>\n",
       "  </tbody>\n",
       "</table>\n",
       "<p>144 rows × 2 columns</p>\n",
       "</div>"
      ],
      "text/plain": [
       "                                                    earliest  latest\n",
       "manuscript_text                                                     \n",
       "Cambridge - Bible Society's Library pap. Q - Go...     200.0   299.0\n",
       "Papyrus Nag Hammadi C 002 - Genesis                    200.0   399.0\n",
       "London - British Library Or 4919(5) - Lamentations       NaN     NaN\n",
       "Leipzig - Universität - Papyrus- und Ostrakasam...     200.0   499.0\n",
       "Moscow - Pushkin Museum I.1.b.523 - P.MoscowCop...     200.0  1119.0\n",
       "...                                                      ...     ...\n",
       "Berlin - Ägyptisches Museum P. 8324 - BKU I 18 ...       NaN   699.0\n",
       "London - British Library Or. 5525 - P.Lond.Copt...       NaN   899.0\n",
       "London - British Library Or. 6800 - Colophon wi...    1000.0  1033.0\n",
       "Paris - Bibliothèque Nationale Copte 132.1.67 -...     925.0   949.0\n",
       "Khartum - National Museum 24338 - Foundation in...     700.0   719.0\n",
       "\n",
       "[144 rows x 2 columns]"
      ]
     },
     "execution_count": 8,
     "metadata": {},
     "output_type": "execute_result"
    }
   ],
   "source": [
    "df[[\"manuscript_text\", \"earliest\", \"latest\"]].set_index(\"manuscript_text\").drop_duplicates()"
   ]
  },
  {
   "cell_type": "markdown",
   "id": "dbdd4be8-a94e-4948-9030-be443f678e8e",
   "metadata": {},
   "source": [
    "Because we may want to try to correlate some deviations in spelling with the time period at which they occur, we want to know how many texts lack a date (and therefore cannot be used for this analysis):"
   ]
  },
  {
   "cell_type": "code",
   "execution_count": 9,
   "id": "a606592d-9be2-495b-b8a8-ad3513169627",
   "metadata": {},
   "outputs": [
    {
     "data": {
      "text/plain": [
       "0.4687119220970162"
      ]
     },
     "execution_count": 9,
     "metadata": {},
     "output_type": "execute_result"
    }
   ],
   "source": [
    "len(df[pd.isna(df[\"earliest\"]) & pd.isna(df[\"latest\"])]) / len(df)"
   ]
  },
  {
   "cell_type": "markdown",
   "id": "4399c136-a254-44db-8476-175e28c0d994",
   "metadata": {},
   "source": [
    "As we can see, almost half of the attestations of Greek words in Coptic texts lack a plausible date.\n",
    "This leaves us with about 100K dateable data points, which should still be enough for robust analysis.\n",
    "\n",
    "Since there are often two date series—an upper and a lower bound—and it is easier to work with only one series, we use the arithmetic mean of the latest and earliest dates if both are available, otherwise we use the one available date."
   ]
  },
  {
   "cell_type": "code",
   "execution_count": 10,
   "id": "a334259e-74db-4d72-923a-2d22b95b4b9d",
   "metadata": {},
   "outputs": [],
   "source": [
    "def unify_date(row):\n",
    "    if not math.isnan(row[\"latest\"]) and not math.isnan(row[\"earliest\"]):\n",
    "        return (row[\"latest\"]+row[\"earliest\"])/2\n",
    "    elif not math.isnan(row[\"latest\"]):\n",
    "        return row[\"latest\"]\n",
    "    elif not math.isnan(row[\"earliest\"]):\n",
    "        return row[\"earliest\"]\n",
    "    else:\n",
    "        return None\n",
    "\n",
    "df[\"date_approximate\"] = df.apply(unify_date, axis=1)"
   ]
  },
  {
   "cell_type": "markdown",
   "id": "09077ea8-1962-4e4f-82de-a1046c92d856",
   "metadata": {},
   "source": [
    "We get the following distribution of attestations of Greek words in total:"
   ]
  },
  {
   "cell_type": "code",
   "execution_count": 11,
   "id": "38b462e1-c864-46f5-a3ca-230cd5bf3422",
   "metadata": {},
   "outputs": [
    {
     "data": {
      "text/plain": [
       "<Axes: >"
      ]
     },
     "execution_count": 11,
     "metadata": {},
     "output_type": "execute_result"
    },
    {
     "data": {
      "image/png": "[encoded data removed]",
      "text/plain": [
       "<Figure size 640x480 with 1 Axes>"
      ]
     },
     "metadata": {},
     "output_type": "display_data"
    }
   ],
   "source": [
    "df[\"date_approximate\"].hist()"
   ]
  },
  {
   "cell_type": "markdown",
   "id": "eba0bd0d-d49a-469a-8209-6cefd14aaf1d",
   "metadata": {},
   "source": [
    "## Cleaning the Data\n",
    "Next, it makes sense to strip some columns from the table. For our analysis of orthographical deviation, we only need the `orthography` and `greek_lemma` columns (for comparing them against each other).\n",
    "For further analysis of factors such as date or dialect, we also keep the `dialect` column as well as our new `date_approximate` column."
   ]
  },
  {
   "cell_type": "code",
   "execution_count": 12,
   "id": "a2232b02-38be-4f41-b45c-57880514d62f",
   "metadata": {},
   "outputs": [],
   "source": [
    "df_simple = df[[\"orthography\", \"greek_lemma\", \"dialect\", \"date_approximate\", \"latest\", \"earliest\"]]"
   ]
  },
  {
   "cell_type": "markdown",
   "id": "c16ef2ea-ac46-4758-8b11-35b3f11bbad9",
   "metadata": {},
   "source": [
    "We also want to remove any rows which for some reason either lack an `orthography` or a `greek_lemma`. We need both for our analysis."
   ]
  },
  {
   "cell_type": "code",
   "execution_count": 13,
   "id": "f04c532e-a659-4101-880e-d745ba3a4bc5",
   "metadata": {},
   "outputs": [],
   "source": [
    "df_simple = df_simple.dropna(subset={\"orthography\", \"greek_lemma\"})"
   ]
  },
  {
   "cell_type": "markdown",
   "id": "3c27a379-2cf7-4a24-bd5a-fc8aabd25ec7",
   "metadata": {},
   "source": [
    "We also want to remove all rows which are explicitly marked as erroneous (via `sic`) or as abbreviations, i.e. ending with `/` or similar or containing `…` or other common abbreviation characters, e.g. monograms."
   ]
  },
  {
   "cell_type": "code",
   "execution_count": 14,
   "id": "b2cf1f78-d8fe-429d-a43b-7afa2a3baa26",
   "metadata": {},
   "outputs": [],
   "source": [
    "df_simple = df_simple[~(\n",
    "    df_simple[\"orthography\"].str.contains(\"sic\")\n",
    "    | df_simple[\"orthography\"].str.endswith((\"/\", \"/̅\", \"/°\")) # remove marked abbreviations\n",
    "    | df_simple[\"orthography\"].str.contains(\"\\d|[….ⳇ⁄?ⳁ⳨Ⳁ⳧ⲋ⳦⳥⳽]\", regex=True) # remove lines with numbers or marked abbreviations\n",
    ")]"
   ]
  },
  {
   "cell_type": "markdown",
   "id": "ba7d9374-cbe3-43f2-a1f8-05618de00a66",
   "metadata": {},
   "source": [
    "The `orthography` column is still littered with all kinds of combining diacritics, letter variants, capital letters or Greek script that have crept in. We therefore create an `orthography_clean` column, applying the following transformations:"
   ]
  },
  {
   "cell_type": "code",
   "execution_count": 15,
   "id": "29a5393a-2123-4986-b07f-0400b317edc7",
   "metadata": {},
   "outputs": [],
   "source": [
    "df_simple[\"orthography_clean\"] = (\n",
    "    df_simple[\"orthography\"]\n",
    "    .str.strip() # remove extraneous whitespace\n",
    "    .str.lower() # convert capital letters to lower case\n",
    "    .apply(lambda x: x.translate(greek_to_coptic_ord)) # convert Greek letters that crept in\n",
    "    .str.replace(\"ϊ\", \"ⲓ\") # convert precombined accented greek letter\n",
    "    .str.replace(\"[\\u0305\\u0304\\ufe24\\ufe25\\ufe26\\u2cf1\\u2cf0\\u0300]+\", \"\", regex=True) # remove overlines\n",
    "    .str.replace(\"[\\u2CBB\\u2CEF]\", \"ⲛ\", regex=True) # normalize letter ⲛ (written as stroke)\n",
    "    .str.replace(\"[ⳅⲹ]\", \"ⲍ\", regex=True) # normalize letter ⲍ\n",
    "    .str.replace(\"o\", \"ⲟ\") # replace latin o by coptic\n",
    "    .str.replace(\"\\u001D|\\u0314|\\u200E|\\u0486|\\u02BE|\\u2CFF|\\u0307|\\u0308|\\u0301|\\u0323|\\u0304|\\u1DCD|\\u0302|\\u0306\" + \"|\" + r\"col\\.b|/|⟦.*?⟧|\\\\|\\[|\\]|[‖|´⸤⸥⸢⸣⁅⁆⸖'‹›`’`´:⸌⸍\\⸳‧·•·ʾ*]\", \"\", regex=True)\n",
    ")"
   ]
  },
  {
   "cell_type": "markdown",
   "id": "ddd7b8c3-82c9-427b-a51b-d98c9d0ff3a7",
   "metadata": {},
   "source": [
    "By removing all expected alphabetic characters from the orthographies, we can see how many rows still contain unexpected characters:"
   ]
  },
  {
   "cell_type": "code",
   "execution_count": 16,
   "id": "429e7d7d-bf41-4ee8-9063-5ddcb6788383",
   "metadata": {
    "scrolled": true
   },
   "outputs": [
    {
     "data": {
      "text/html": [
       "<div>\n",
       "<style scoped>\n",
       "    .dataframe tbody tr th:only-of-type {\n",
       "        vertical-align: middle;\n",
       "    }\n",
       "\n",
       "    .dataframe tbody tr th {\n",
       "        vertical-align: top;\n",
       "    }\n",
       "\n",
       "    .dataframe thead th {\n",
       "        text-align: right;\n",
       "    }\n",
       "</style>\n",
       "<table border=\"1\" class=\"dataframe\">\n",
       "  <thead>\n",
       "    <tr style=\"text-align: right;\">\n",
       "      <th></th>\n",
       "      <th>orthography</th>\n",
       "      <th>greek_lemma</th>\n",
       "      <th>dialect</th>\n",
       "      <th>date_approximate</th>\n",
       "      <th>latest</th>\n",
       "      <th>earliest</th>\n",
       "      <th>orthography_clean</th>\n",
       "      <th>strange_characters</th>\n",
       "    </tr>\n",
       "    <tr>\n",
       "      <th>id</th>\n",
       "      <th></th>\n",
       "      <th></th>\n",
       "      <th></th>\n",
       "      <th></th>\n",
       "      <th></th>\n",
       "      <th></th>\n",
       "      <th></th>\n",
       "      <th></th>\n",
       "    </tr>\n",
       "  </thead>\n",
       "  <tbody>\n",
       "    <tr>\n",
       "      <th>98756</th>\n",
       "      <td>ⲡⲣⲏⲣ[ⲱ]ⲥⲓ̈[c]</td>\n",
       "      <td>πλήρωσις</td>\n",
       "      <td>S</td>\n",
       "      <td>749.5</td>\n",
       "      <td>899.0</td>\n",
       "      <td>600.0</td>\n",
       "      <td>ⲡⲣⲏⲣⲱⲥⲓc</td>\n",
       "      <td>{c}</td>\n",
       "    </tr>\n",
       "    <tr>\n",
       "      <th>50102</th>\n",
       "      <td>~</td>\n",
       "      <td>στοιχέω</td>\n",
       "      <td>S</td>\n",
       "      <td>749.5</td>\n",
       "      <td>799.0</td>\n",
       "      <td>700.0</td>\n",
       "      <td>~</td>\n",
       "      <td>{~}</td>\n",
       "    </tr>\n",
       "    <tr>\n",
       "      <th>72021</th>\n",
       "      <td>ⲁⲗⲙⲟⲩⲡⲧⲱ‵ⲛ′</td>\n",
       "      <td>(incertum)</td>\n",
       "      <td>S</td>\n",
       "      <td>899.5</td>\n",
       "      <td>999.0</td>\n",
       "      <td>800.0</td>\n",
       "      <td>ⲁⲗⲙⲟⲩⲡⲧⲱ‵ⲛ′</td>\n",
       "      <td>{′, ‵}</td>\n",
       "    </tr>\n",
       "    <tr>\n",
       "      <th>72466</th>\n",
       "      <td>ⲡⲉⲣ․ⲓⲭⲣⲓⲥⲙⲁ</td>\n",
       "      <td>περίχρισμα</td>\n",
       "      <td>S</td>\n",
       "      <td>899.5</td>\n",
       "      <td>999.0</td>\n",
       "      <td>800.0</td>\n",
       "      <td>ⲡⲉⲣ․ⲓⲭⲣⲓⲥⲙⲁ</td>\n",
       "      <td>{․}</td>\n",
       "    </tr>\n",
       "    <tr>\n",
       "      <th>77044</th>\n",
       "      <td>[I]</td>\n",
       "      <td>(incertum)</td>\n",
       "      <td>S</td>\n",
       "      <td>899.5</td>\n",
       "      <td>999.0</td>\n",
       "      <td>800.0</td>\n",
       "      <td>i</td>\n",
       "      <td>{i}</td>\n",
       "    </tr>\n",
       "    <tr>\n",
       "      <th>176829</th>\n",
       "      <td>ⲁⲉⲓ|[b]ⲧⲟⲥ</td>\n",
       "      <td>ἀετός</td>\n",
       "      <td>S</td>\n",
       "      <td>NaN</td>\n",
       "      <td>NaN</td>\n",
       "      <td>NaN</td>\n",
       "      <td>ⲁⲉⲓbⲧⲟⲥ</td>\n",
       "      <td>{b}</td>\n",
       "    </tr>\n",
       "    <tr>\n",
       "      <th>94989</th>\n",
       "      <td>ⲙⲁⲕ⸌+⸍</td>\n",
       "      <td>μακάριος</td>\n",
       "      <td>S</td>\n",
       "      <td>NaN</td>\n",
       "      <td>NaN</td>\n",
       "      <td>NaN</td>\n",
       "      <td>ⲙⲁⲕ+</td>\n",
       "      <td>{+}</td>\n",
       "    </tr>\n",
       "    <tr>\n",
       "      <th>96126</th>\n",
       "      <td>N⸌ο⸍</td>\n",
       "      <td>νόμισμα</td>\n",
       "      <td>S</td>\n",
       "      <td>NaN</td>\n",
       "      <td>NaN</td>\n",
       "      <td>NaN</td>\n",
       "      <td>nⲟ</td>\n",
       "      <td>{n}</td>\n",
       "    </tr>\n",
       "    <tr>\n",
       "      <th>96128</th>\n",
       "      <td>N⸌ο⸍</td>\n",
       "      <td>νόμισμα</td>\n",
       "      <td>S</td>\n",
       "      <td>NaN</td>\n",
       "      <td>NaN</td>\n",
       "      <td>NaN</td>\n",
       "      <td>nⲟ</td>\n",
       "      <td>{n}</td>\n",
       "    </tr>\n",
       "  </tbody>\n",
       "</table>\n",
       "</div>"
      ],
      "text/plain": [
       "          orthography greek_lemma dialect  date_approximate  latest  earliest  \\\n",
       "id                                                                              \n",
       "98756   ⲡⲣⲏⲣ[ⲱ]ⲥⲓ̈[c]    πλήρωσις       S             749.5   899.0     600.0   \n",
       "50102               ~     στοιχέω       S             749.5   799.0     700.0   \n",
       "72021     ⲁⲗⲙⲟⲩⲡⲧⲱ‵ⲛ′  (incertum)       S             899.5   999.0     800.0   \n",
       "72466     ⲡⲉⲣ․ⲓⲭⲣⲓⲥⲙⲁ  περίχρισμα       S             899.5   999.0     800.0   \n",
       "77044             [I]  (incertum)       S             899.5   999.0     800.0   \n",
       "176829     ⲁⲉⲓ|[b]ⲧⲟⲥ       ἀετός       S               NaN     NaN       NaN   \n",
       "94989          ⲙⲁⲕ⸌+⸍    μακάριος       S               NaN     NaN       NaN   \n",
       "96126            N⸌ο⸍    νόμισμα       S               NaN     NaN       NaN   \n",
       "96128            N⸌ο⸍    νόμισμα       S               NaN     NaN       NaN   \n",
       "\n",
       "       orthography_clean strange_characters  \n",
       "id                                           \n",
       "98756           ⲡⲣⲏⲣⲱⲥⲓc                {c}  \n",
       "50102                  ~                {~}  \n",
       "72021        ⲁⲗⲙⲟⲩⲡⲧⲱ‵ⲛ′             {′, ‵}  \n",
       "72466        ⲡⲉⲣ․ⲓⲭⲣⲓⲥⲙⲁ                {․}  \n",
       "77044                  i                {i}  \n",
       "176829           ⲁⲉⲓbⲧⲟⲥ                {b}  \n",
       "94989               ⲙⲁⲕ+                {+}  \n",
       "96126                 nⲟ                {n}  \n",
       "96128                 nⲟ                {n}  "
      ]
     },
     "execution_count": 16,
     "metadata": {},
     "output_type": "execute_result"
    }
   ],
   "source": [
    "df_simple[\"strange_characters\"] = df_simple[\"orthography_clean\"].str.replace(\"[ϯϫϭⲁⲃⲅⲇⲉⲍⲏⲑⲕⲗⲙⲛⲝⲡⲣⲥⲧⲟⲱⲩⲓϩⲫϣ ⲭⳉϥⲯⲡⳤ\\u0305]\", \"\", regex=True).apply(lambda x: set(c for c in x))\n",
    "df_simple[df_simple[\"strange_characters\"].apply(lambda x: len(x) > 0)]"
   ]
  },
  {
   "cell_type": "markdown",
   "id": "40d62fe3-4143-4b69-b3bd-3c1a8c9504e2",
   "metadata": {},
   "source": [
    "These remaining cases are neglegible. Finally, we restrict our analysis to texts marked as Sahidic:"
   ]
  },
  {
   "cell_type": "code",
   "execution_count": 18,
   "id": "271f28e3-a5b4-4544-ad55-a5133f91b40d",
   "metadata": {},
   "outputs": [],
   "source": [
    "df_simple = df_simple[df_simple[\"dialect\"] == \"S\"]"
   ]
  },
  {
   "cell_type": "code",
   "execution_count": 20,
   "id": "f07f0284-1af9-4559-9f4f-a1492829ac0e",
   "metadata": {},
   "outputs": [
    {
     "data": {
      "text/html": [
       "<div>\n",
       "<style scoped>\n",
       "    .dataframe tbody tr th:only-of-type {\n",
       "        vertical-align: middle;\n",
       "    }\n",
       "\n",
       "    .dataframe tbody tr th {\n",
       "        vertical-align: top;\n",
       "    }\n",
       "\n",
       "    .dataframe thead th {\n",
       "        text-align: right;\n",
       "    }\n",
       "</style>\n",
       "<table border=\"1\" class=\"dataframe\">\n",
       "  <thead>\n",
       "    <tr style=\"text-align: right;\">\n",
       "      <th></th>\n",
       "      <th>orthography</th>\n",
       "      <th>greek_lemma</th>\n",
       "      <th>dialect</th>\n",
       "      <th>date_approximate</th>\n",
       "      <th>latest</th>\n",
       "      <th>earliest</th>\n",
       "      <th>orthography_clean</th>\n",
       "      <th>strange_characters</th>\n",
       "    </tr>\n",
       "    <tr>\n",
       "      <th>id</th>\n",
       "      <th></th>\n",
       "      <th></th>\n",
       "      <th></th>\n",
       "      <th></th>\n",
       "      <th></th>\n",
       "      <th></th>\n",
       "      <th></th>\n",
       "      <th></th>\n",
       "    </tr>\n",
       "  </thead>\n",
       "  <tbody>\n",
       "    <tr>\n",
       "      <th>6937</th>\n",
       "      <td>ⲗⲁⲟⲥ</td>\n",
       "      <td>λαός</td>\n",
       "      <td>S</td>\n",
       "      <td>299.5</td>\n",
       "      <td>399.0</td>\n",
       "      <td>200.0</td>\n",
       "      <td>ⲗⲁⲟⲥ</td>\n",
       "      <td>{}</td>\n",
       "    </tr>\n",
       "    <tr>\n",
       "      <th>6938</th>\n",
       "      <td>[ⲡ]ⲁⲣⲉⲙⲃⲟⲗⲏ</td>\n",
       "      <td>παρεμβολή</td>\n",
       "      <td>S</td>\n",
       "      <td>299.5</td>\n",
       "      <td>399.0</td>\n",
       "      <td>200.0</td>\n",
       "      <td>ⲡⲁⲣⲉⲙⲃⲟⲗⲏ</td>\n",
       "      <td>{}</td>\n",
       "    </tr>\n",
       "    <tr>\n",
       "      <th>6939</th>\n",
       "      <td>ⲡⲁⲣⲉⲙⲃⲟⲗⲏ</td>\n",
       "      <td>παρεμβολή</td>\n",
       "      <td>S</td>\n",
       "      <td>299.5</td>\n",
       "      <td>399.0</td>\n",
       "      <td>200.0</td>\n",
       "      <td>ⲡⲁⲣⲉⲙⲃⲟⲗⲏ</td>\n",
       "      <td>{}</td>\n",
       "    </tr>\n",
       "    <tr>\n",
       "      <th>6940</th>\n",
       "      <td>ⲇⲉ</td>\n",
       "      <td>δέ</td>\n",
       "      <td>S</td>\n",
       "      <td>299.5</td>\n",
       "      <td>399.0</td>\n",
       "      <td>200.0</td>\n",
       "      <td>ⲇⲉ</td>\n",
       "      <td>{}</td>\n",
       "    </tr>\n",
       "    <tr>\n",
       "      <th>6941</th>\n",
       "      <td>ⲇⲓⲕⲁⲓ|ⲟⲥⲩⲛⲏ</td>\n",
       "      <td>δικαιοσύνη</td>\n",
       "      <td>S</td>\n",
       "      <td>299.5</td>\n",
       "      <td>399.0</td>\n",
       "      <td>200.0</td>\n",
       "      <td>ⲇⲓⲕⲁⲓⲟⲥⲩⲛⲏ</td>\n",
       "      <td>{}</td>\n",
       "    </tr>\n",
       "    <tr>\n",
       "      <th>...</th>\n",
       "      <td>...</td>\n",
       "      <td>...</td>\n",
       "      <td>...</td>\n",
       "      <td>...</td>\n",
       "      <td>...</td>\n",
       "      <td>...</td>\n",
       "      <td>...</td>\n",
       "      <td>...</td>\n",
       "    </tr>\n",
       "    <tr>\n",
       "      <th>201059</th>\n",
       "      <td>ⲙⲟⲛⲟⲕⲉ́ⲣⲱⲧⲟⲥ</td>\n",
       "      <td>μονόκερως</td>\n",
       "      <td>S</td>\n",
       "      <td>NaN</td>\n",
       "      <td>NaN</td>\n",
       "      <td>NaN</td>\n",
       "      <td>ⲙⲟⲛⲟⲕⲉⲣⲱⲧⲟⲥ</td>\n",
       "      <td>{}</td>\n",
       "    </tr>\n",
       "    <tr>\n",
       "      <th>201060</th>\n",
       "      <td>ⲙⲟⲙⲟⲕⲉⲣⲱⲥ</td>\n",
       "      <td>μονόκερως</td>\n",
       "      <td>S</td>\n",
       "      <td>NaN</td>\n",
       "      <td>NaN</td>\n",
       "      <td>NaN</td>\n",
       "      <td>ⲙⲟⲙⲟⲕⲉⲣⲱⲥ</td>\n",
       "      <td>{}</td>\n",
       "    </tr>\n",
       "    <tr>\n",
       "      <th>201061</th>\n",
       "      <td>ⲕⲁⲑⲩⲡⲟⲧⲁⲥⲥⲉ</td>\n",
       "      <td>καθυποτάσσω</td>\n",
       "      <td>S</td>\n",
       "      <td>709.5</td>\n",
       "      <td>719.0</td>\n",
       "      <td>700.0</td>\n",
       "      <td>ⲕⲁⲑⲩⲡⲟⲧⲁⲥⲥⲉ</td>\n",
       "      <td>{}</td>\n",
       "    </tr>\n",
       "    <tr>\n",
       "      <th>201062</th>\n",
       "      <td>ⲡⲣⲟⲉⲇⲣⲟⲥ</td>\n",
       "      <td>πρόεδρος</td>\n",
       "      <td>S</td>\n",
       "      <td>709.5</td>\n",
       "      <td>719.0</td>\n",
       "      <td>700.0</td>\n",
       "      <td>ⲡⲣⲟⲉⲇⲣⲟⲥ</td>\n",
       "      <td>{}</td>\n",
       "    </tr>\n",
       "    <tr>\n",
       "      <th>201064</th>\n",
       "      <td>ⲉⲃⲗⲁⲡⲧⲉⲓ</td>\n",
       "      <td>βλάπτω</td>\n",
       "      <td>S</td>\n",
       "      <td>699.5</td>\n",
       "      <td>749.0</td>\n",
       "      <td>650.0</td>\n",
       "      <td>ⲉⲃⲗⲁⲡⲧⲉⲓ</td>\n",
       "      <td>{}</td>\n",
       "    </tr>\n",
       "  </tbody>\n",
       "</table>\n",
       "<p>160619 rows × 8 columns</p>\n",
       "</div>"
      ],
      "text/plain": [
       "         orthography  greek_lemma dialect  date_approximate  latest  earliest  \\\n",
       "id                                                                              \n",
       "6937            ⲗⲁⲟⲥ         λαός       S             299.5   399.0     200.0   \n",
       "6938     [ⲡ]ⲁⲣⲉⲙⲃⲟⲗⲏ    παρεμβολή       S             299.5   399.0     200.0   \n",
       "6939       ⲡⲁⲣⲉⲙⲃⲟⲗⲏ    παρεμβολή       S             299.5   399.0     200.0   \n",
       "6940              ⲇⲉ           δέ       S             299.5   399.0     200.0   \n",
       "6941     ⲇⲓⲕⲁⲓ|ⲟⲥⲩⲛⲏ   δικαιοσύνη       S             299.5   399.0     200.0   \n",
       "...              ...          ...     ...               ...     ...       ...   \n",
       "201059  ⲙⲟⲛⲟⲕⲉ́ⲣⲱⲧⲟⲥ    μονόκερως       S               NaN     NaN       NaN   \n",
       "201060     ⲙⲟⲙⲟⲕⲉⲣⲱⲥ    μονόκερως       S               NaN     NaN       NaN   \n",
       "201061   ⲕⲁⲑⲩⲡⲟⲧⲁⲥⲥⲉ  καθυποτάσσω       S             709.5   719.0     700.0   \n",
       "201062      ⲡⲣⲟⲉⲇⲣⲟⲥ     πρόεδρος       S             709.5   719.0     700.0   \n",
       "201064      ⲉⲃⲗⲁⲡⲧⲉⲓ       βλάπτω       S             699.5   749.0     650.0   \n",
       "\n",
       "       orthography_clean strange_characters  \n",
       "id                                           \n",
       "6937                ⲗⲁⲟⲥ                 {}  \n",
       "6938           ⲡⲁⲣⲉⲙⲃⲟⲗⲏ                 {}  \n",
       "6939           ⲡⲁⲣⲉⲙⲃⲟⲗⲏ                 {}  \n",
       "6940                  ⲇⲉ                 {}  \n",
       "6941          ⲇⲓⲕⲁⲓⲟⲥⲩⲛⲏ                 {}  \n",
       "...                  ...                ...  \n",
       "201059       ⲙⲟⲛⲟⲕⲉⲣⲱⲧⲟⲥ                 {}  \n",
       "201060         ⲙⲟⲙⲟⲕⲉⲣⲱⲥ                 {}  \n",
       "201061       ⲕⲁⲑⲩⲡⲟⲧⲁⲥⲥⲉ                 {}  \n",
       "201062          ⲡⲣⲟⲉⲇⲣⲟⲥ                 {}  \n",
       "201064          ⲉⲃⲗⲁⲡⲧⲉⲓ                 {}  \n",
       "\n",
       "[160619 rows x 8 columns]"
      ]
     },
     "execution_count": 20,
     "metadata": {},
     "output_type": "execute_result"
    }
   ],
   "source": [
    "df_simple"
   ]
  },
  {
   "cell_type": "markdown",
   "id": "bc324c09-d8e4-42db-926f-c6b36756ad13",
   "metadata": {},
   "source": [
    "## Finding Deviations\n",
    "\n",
    "TODO\n",
    "\n",
    "<a id=\"greek-transliteration\"></a>\n",
    "### Transliteration from Greek to Coptic\n",
    "\n",
    "In the following, we want to compare the (normative) Greek spelling to various actual Coptic spellings.\n",
    "The Greek and Coptic alphabets are handled by Unicode differently, so trying to find the differences between a word such as δίκαιος and ⲇⲓⲕⲁⲓⲟⲥ\n",
    "would highlight every letter as different, because the actual codepoints of the Greek and Coptic delta, iota etc. differ.\n",
    "We therefore need to \"transliterate\" (using quotes, because the alphabets are essentially the same) either the Coptic words into the Greek alphabet or the Greek words into the Coptic.\n",
    "\n",
    "Because the Coptic alphabet is a superset of the Greek and we would not be able to handle specifically Egyptian characters such as ϩ, ϣ etc., we choose to convert from Greek to Coptic. \n",
    "The following three steps are necessary:\n",
    "\n",
    "1. NFD-normalization (see [Unicode® Standard Annex #15](https://www.unicode.org/reports/tr15/) for more info): This step splits precomposed i.e. accented Greek letters into the underlying letter and one or more accent codepoints. For example: `ἅγιος` will be split into `α, ʿ, ΄, γ, ι, ο, ς`.\n",
    "2. Actual transliteration: The Greek characters (and their variants, such as ϑ or ς) are mapped to their Coptic equivalents, *spiritus asper* is mapped to `ϩ`, *iota subscriptum* to normal `ⲓ`, other accents are dropped.\n",
    "3. Reordering of ϩ-combinations: The last step applied to ἅγιος results in `ⲁϩⲅⲓⲟⲥ`, because according to the NFD specification, the combining breathing mark comes after the letter it applies to. Therefore any group of vowels (or *rho*) followed by ϩ must swap places with it. This also correctly converts `ⲁⲓϩⲣⲉⲱ` (← αἱρέω) to `ϩⲁⲓⲣⲉⲱ`.\n",
    "\n",
    "TODO explain rrh"
   ]
  },
  {
   "cell_type": "code",
   "execution_count": 21,
   "id": "a4f356ff-d77c-4c55-a126-f8c64af5efea",
   "metadata": {},
   "outputs": [],
   "source": [
    "def transliterate(greek):\n",
    "    normalized = unicodedata.normalize(\"NFD\", greek)\n",
    "    clean_spiritus_asper = lambda x: re.sub(r\"^([ⲣⲁⲉⲏⲓⲟⲱⲩ]+)ϩ\", r'ϩ\\1', x)\n",
    "    return clean_spiritus_asper(\n",
    "        \"\".join(\n",
    "            greek_to_coptic[character.lower()]\n",
    "            for character in normalized\n",
    "            if character.lower() in greek_to_coptic\n",
    "        )\n",
    "    ).replace(\"ⲣⲣ\", \"ϩⲣ\")"
   ]
  },
  {
   "cell_type": "markdown",
   "id": "58e4cb9d-26d1-4e1b-ae41-30873a4adc9d",
   "metadata": {},
   "source": [
    "See the transliteration in action here:"
   ]
  },
  {
   "cell_type": "code",
   "execution_count": 22,
   "id": "9f64c3de-9f2d-4629-8ee4-2e773d34ab21",
   "metadata": {
    "scrolled": true
   },
   "outputs": [
    {
     "data": {
      "text/plain": [
       "('ϩⲣⲁⲓⲇⲓⲱⲥ', 'ϩⲁⲓⲣⲉⲱ', 'ϩⲁⲅⲓⲟⲥ', 'ⲡⲁϩⲣⲏⲥⲓⲁ')"
      ]
     },
     "execution_count": 22,
     "metadata": {},
     "output_type": "execute_result"
    }
   ],
   "source": [
    "transliterate(\"ῥᾳδίως\"), transliterate(\"αἱρέω\"), transliterate(\"ἅγιος\"), transliterate(\"παρρησία\")"
   ]
  },
  {
   "cell_type": "markdown",
   "id": "bc02aa23-888d-49a4-a8b4-e80726873cba",
   "metadata": {},
   "source": [
    "It works as expected. We can now apply this transformation to the entire `greek_lemma` column:"
   ]
  },
  {
   "cell_type": "code",
   "execution_count": 23,
   "id": "a6f94bb5-9c23-4011-a9c7-e48779171466",
   "metadata": {},
   "outputs": [],
   "source": [
    "df_simple[\"greek_lemma\"] = df_simple[\"greek_lemma\"].apply(transliterate)"
   ]
  },
  {
   "cell_type": "markdown",
   "id": "e2da22d4-cf27-4049-81f9-23840a0a2ae8",
   "metadata": {},
   "source": [
    "### *Gestalt* Pattern Matching\n",
    "\n",
    "The task of finding the places where two spellings of the same word vary, e.g. finding out that the difference between `ⲇⲓⲕⲁⲓⲟⲥ` and `ⲇⲓⲕⲉⲟⲥ` lies in the substitution `ⲁⲓ → ⲉ`.\n",
    "Is analogous to the common computer science task of [file comparison](https://en.wikipedia.org/wiki/File_comparison).\n",
    "\n",
    "We can therefore simply use a tool built for file comparison—Python's built-in [difflib](https://docs.python.org/3/library/difflib.html) module—for our analysis.\n",
    "The algorithm used by this module is known as [*Gestalt* pattern matching](https://en.wikipedia.org/wiki/Gestalt_Pattern_Matching).\n",
    "\n",
    "Unlike the more commonly used [Levenshtein distance](https://en.wikipedia.org/wiki/Levenshtein_distance), it works on arbitrarily long groups of characters, so the difference between the strings `ⲁⲣⲁⲯ` and `ⲁⲣⲁⲃⲟⲥ` is characterized as `replace ⲯ → ⲃⲟⲥ` instead of `replace ⲯ → ⲃ, insert ⲟ, insert ⲥ`. As can probably be seen, this better reflects the *gestalt* of the concrete difference in orthography.\n",
    "\n",
    "But how does it work? Some examples:\n",
    "\n",
    "1. Find the [longest common substring](https://en.wikipedia.org/wiki/Longest_common_substring) of both spellings. If there are multiple ones of equal length, the one occuring earliest will take precedence. When comparing `ⲁⲣⲁⲯ` and `ⲁⲣⲁⲃⲟⲥ`, the longest common substring is `ⲁⲣⲁ`.\n",
    "2. Recurse into the left and right of that substring. Neither of the two strings has any characters left of the common substring `ⲁⲣⲁ`, so this recursion subtree is complete. To the right, we have the two strings `ⲯ` and `ⲃⲟⲥ`. We try to find the longest common substring of those two.\n",
    "3. If there is no common substring, we note the difference as `replace ⲯ → ⲃⲟⲥ`. If one or the other side is empty, this is notes as either `insert XYZ` (`replace ∅ → XYZ`) or `delete XYZ` (meaning  `replace XYZ → ∅`).\n",
    "\n",
    "Another example, this time comparing `ⲇⲓⲕⲁⲓⲟⲥ` to `ⲇⲓⲕⲉⲟⲥ`:\n",
    "\n",
    "1. Common subsequences are `ⲇⲓⲕ` and `ⲟⲥ`. We start with `ⲇⲓⲕ`, because it is longer.\n",
    "2. To the left of `ⲇⲓⲕ` both strings are empty (and thereby equal). To the right we have the strings `ⲁⲓⲟⲥ` and `ⲉⲟⲥ`.\n",
    "    1. Their longest common substring is `ⲟⲥ`.\n",
    "    2. To the left we have the strings `ⲁⲓ` and `ⲉ`. To the right both strings are empty (and thereby equal).\n",
    "3. There is no common substring between `ⲁⲓ` and `ⲉ`. We have therefore found the one differing point. We can characterize the difference as `replace ⲁⲓ → ⲉ`.\n",
    "\n",
    "This is all done by the `SequenceMatcher` class. Its method `get_opcodes()` returns all changes and where in the string they apply."
   ]
  },
  {
   "cell_type": "code",
   "execution_count": 24,
   "id": "b2cbffa4-7329-4b61-916c-6674eb1a7371",
   "metadata": {},
   "outputs": [],
   "source": [
    "from difflib import SequenceMatcher\n",
    "\n",
    "def get_required_edits(a, b):\n",
    "    for operation, a_start, a_end, b_start, b_end in SequenceMatcher(\n",
    "        a=a, b=b, autojunk=False\n",
    "    ).get_opcodes():\n",
    "        the_input = a[a_start:a_end]\n",
    "        if len(the_input) == 0: the_input = \"∅\"\n",
    "        the_output = b[b_start:b_end]\n",
    "        if len(the_output) == 0: the_output = \"∅\"\n",
    "        \n",
    "        context_left = a[:a_start]\n",
    "        if len(context_left) == 0: context_left = \"#\"\n",
    "        context_right = a[a_end:]\n",
    "        if len(context_right) == 0: context_right = \"#\"\n",
    "        if operation == \"equal\": continue\n",
    "        yield {\"operation\": operation, \"input\": the_input, \"output\": the_output, \"context_left\": context_left, \"context_right\": context_right}"
   ]
  },
  {
   "cell_type": "markdown",
   "id": "bcaa2637-13ec-4473-a76d-b5352dc8f809",
   "metadata": {},
   "source": [
    "For each deviation we track `input`, `output`, `context_left` (for our examples `ⲁⲣⲁ` and `ⲇⲓⲕ` respectively) and `context_right` (for our examples `#` (i.e. word boundary) and `ⲟⲥ` respectively)."
   ]
  },
  {
   "cell_type": "code",
   "execution_count": 25,
   "id": "251cedf4-b4cb-462e-89f7-de5140c5e319",
   "metadata": {},
   "outputs": [
    {
     "data": {
      "text/html": [
       "<div>\n",
       "<style scoped>\n",
       "    .dataframe tbody tr th:only-of-type {\n",
       "        vertical-align: middle;\n",
       "    }\n",
       "\n",
       "    .dataframe tbody tr th {\n",
       "        vertical-align: top;\n",
       "    }\n",
       "\n",
       "    .dataframe thead th {\n",
       "        text-align: right;\n",
       "    }\n",
       "</style>\n",
       "<table border=\"1\" class=\"dataframe\">\n",
       "  <thead>\n",
       "    <tr style=\"text-align: right;\">\n",
       "      <th></th>\n",
       "      <th>operation</th>\n",
       "      <th>input</th>\n",
       "      <th>output</th>\n",
       "      <th>context_left</th>\n",
       "      <th>context_right</th>\n",
       "    </tr>\n",
       "  </thead>\n",
       "  <tbody>\n",
       "    <tr>\n",
       "      <th>0</th>\n",
       "      <td>replace</td>\n",
       "      <td>ⲯ</td>\n",
       "      <td>ⲃⲟⲥ</td>\n",
       "      <td>ⲁⲣⲁ</td>\n",
       "      <td>#</td>\n",
       "    </tr>\n",
       "    <tr>\n",
       "      <th>1</th>\n",
       "      <td>replace</td>\n",
       "      <td>ⲁⲓ</td>\n",
       "      <td>ⲉ</td>\n",
       "      <td>ⲇⲓⲕ</td>\n",
       "      <td>ⲟⲥ</td>\n",
       "    </tr>\n",
       "  </tbody>\n",
       "</table>\n",
       "</div>"
      ],
      "text/plain": [
       "  operation input output context_left context_right\n",
       "0   replace     ⲯ    ⲃⲟⲥ          ⲁⲣⲁ             #\n",
       "1   replace    ⲁⲓ      ⲉ          ⲇⲓⲕ            ⲟⲥ"
      ]
     },
     "execution_count": 25,
     "metadata": {},
     "output_type": "execute_result"
    }
   ],
   "source": [
    "pd.DataFrame(list(get_required_edits(\"ⲁⲣⲁⲯ\", \"ⲁⲣⲁⲃⲟⲥ\")) + list(get_required_edits(\"ⲇⲓⲕⲁⲓⲟⲥ\", \"ⲇⲓⲕⲉⲟⲥ\")))"
   ]
  },
  {
   "cell_type": "markdown",
   "id": "9c453e2b-eee2-4f87-a8c4-7fb2151dd3aa",
   "metadata": {},
   "source": [
    "Since the `SequenceMatcher` was not built for linguistic applications and is therefore ignorant of phonological processes,\n",
    "some of its results have to be tweaked so we can more clearly recognize the changes taking place."
   ]
  },
  {
   "cell_type": "markdown",
   "id": "67ce29c1-63d5-4869-8396-807481ff1c08",
   "metadata": {},
   "source": [
    "#### Post-Processing\n",
    "##### Sub-Alignments\n",
    "\n",
    "Sometimes, similar to the complex gemination above, two adjacent graphemes display orthographic variation.\n",
    "An example: the Greek word `ⲡⲁⲛⲧⲟⲕⲣⲁⲧⲱⲣ` is occasionally spelled `ⲡⲁⲛⲧⲱⲅⲣⲁⲧⲱⲣ`. Herein, both the `ⲟ` and the `ⲕ` have been altered.\n",
    "But since the Gestalt pattern matching algorithm returns the minimum amount of changes, maximising the amount of characters that can be replaced in one go, it comes up with this one replacement:"
   ]
  },
  {
   "cell_type": "code",
   "execution_count": 26,
   "id": "0b91fa52-a6a7-4405-bb62-0b853030bbb8",
   "metadata": {
    "scrolled": true
   },
   "outputs": [
    {
     "data": {
      "text/html": [
       "<div>\n",
       "<style scoped>\n",
       "    .dataframe tbody tr th:only-of-type {\n",
       "        vertical-align: middle;\n",
       "    }\n",
       "\n",
       "    .dataframe tbody tr th {\n",
       "        vertical-align: top;\n",
       "    }\n",
       "\n",
       "    .dataframe thead th {\n",
       "        text-align: right;\n",
       "    }\n",
       "</style>\n",
       "<table border=\"1\" class=\"dataframe\">\n",
       "  <thead>\n",
       "    <tr style=\"text-align: right;\">\n",
       "      <th></th>\n",
       "      <th>operation</th>\n",
       "      <th>input</th>\n",
       "      <th>output</th>\n",
       "      <th>context_left</th>\n",
       "      <th>context_right</th>\n",
       "    </tr>\n",
       "  </thead>\n",
       "  <tbody>\n",
       "    <tr>\n",
       "      <th>0</th>\n",
       "      <td>replace</td>\n",
       "      <td>ⲟⲕ</td>\n",
       "      <td>ⲱⲅ</td>\n",
       "      <td>ⲡⲁⲛⲧ</td>\n",
       "      <td>ⲣⲁⲧⲱⲣ</td>\n",
       "    </tr>\n",
       "  </tbody>\n",
       "</table>\n",
       "</div>"
      ],
      "text/plain": [
       "  operation input output context_left context_right\n",
       "0   replace    ⲟⲕ     ⲱⲅ         ⲡⲁⲛⲧ         ⲣⲁⲧⲱⲣ"
      ]
     },
     "execution_count": 26,
     "metadata": {},
     "output_type": "execute_result"
    }
   ],
   "source": [
    "pd.DataFrame(get_required_edits(\"ⲡⲁⲛⲧⲟⲕⲣⲁⲧⲱⲣ\", \"ⲡⲁⲛⲧⲱⲅⲣⲁⲧⲱⲣ\"))"
   ]
  },
  {
   "cell_type": "markdown",
   "id": "3a8e3730-fb4b-456e-8f1f-ff77ecf27cf0",
   "metadata": {},
   "source": [
    "But this can—and should—be seen as the combination of two deviations that commonly occur on their own as well.\n",
    "\n",
    "Because we do not want to make too many assumptions with respect to the phonetic reality of the spelling (we rather want to find out more about them using this study), we want to be content with implementing a method that makes minimal assumptions and gets the job done. A less parsimonious method would for example extract phonological features (like [DORSAL, +plosive, -voiced] from `ⲕ`) and align the input and output strings based on those, mapping `ⲕ` to `ⲅ` and `ⲟ` to `ⲱ`.\n",
    "\n",
    "Instead, we merely look at whether a grapheme reflects a consonant ($C$) or a vowel ($V$) and convert edits of the form $(\\alpha_V^i)\\beta_C^j\\gamma_V^{k} \\to ({\\alpha'}_V^{i'}){\\beta'}_C^{j'}{\\gamma'}_V^{k'}  / s_L\\_s_R$ (meaning (optionally) $i$ vowels followed by $j$ consonants followed by $k$ vowels and so on) into multiple edits $\\alpha^i \\to \\alpha'^{i'} / s_L\\_\\beta^j\\gamma^{k}s_R$, $\\beta^j\\to {\\beta'}^{j'}/s_L\\alpha^i\\_\\gamma^ks_R$, and $\\gamma^k\\to {\\gamma'}^{k'}/s_L\\alpha^i\\beta^j\\_s_R$ and so on. Note that this grouping approach allows $j$ consonant graphemes to be replaced by $j' \\gtreqqless j$ (less or greater or equal) graphemes etc.\n",
    "In reality, this is mostly applied to groups like $CV$ or $VC$."
   ]
  },
  {
   "cell_type": "code",
   "execution_count": 27,
   "id": "34d765d7-a604-4169-9d13-cd7fc2d9d68b",
   "metadata": {},
   "outputs": [],
   "source": [
    "vowels = {\"ⲁ\", \"ⲉ\", \"ⲏ\", \"ⲓ\", \"ⲟ\", \"ⲱ\", \"ⲩ\"}\n",
    "\n",
    "remove_null = lambda x: x.replace(\"∅\", \"\") if len(x) > 1 else x\n",
    "\n",
    "group_cv = lambda string: [(b, \"\".join(cs)) for b, cs in itertools.groupby(string.replace(\"∅\", \"\"), key=lambda x: x in vowels)]\n",
    "\n",
    "unzip = lambda xs: zip(*xs) if xs else ([], [])\n",
    "\n",
    "def fix_CV_or_VC(edit):\n",
    "    try:\n",
    "        input_booleans, input_cv_groups = unzip(group_cv(edit[\"input\"]))\n",
    "        output_booleans, output_cv_groups = unzip(group_cv(edit[\"output\"]))\n",
    "        if input_booleans == output_booleans and len(input_booleans) > 1:\n",
    "            edits = []\n",
    "            position = 0\n",
    "            context_left = \"\"\n",
    "            context_right = \"\".join(input_cv_groups)\n",
    "            for input_cv, output_cv in zip(input_cv_groups, output_cv_groups, strict=True):\n",
    "                position += len(input_cv)\n",
    "                edits.append({\n",
    "                    \"input\": \"\".join(input_cv),\n",
    "                    \"output\": \"\".join(output_cv),\n",
    "                    \"context_left\": remove_null(edit[\"context_left\"] + context_left),\n",
    "                    \"context_right\": remove_null(context_right[position:] + edit[\"context_right\"])\n",
    "                })\n",
    "                context_left += \"\".join(input_cv)\n",
    "            return edits\n",
    "        else:\n",
    "            return [edit]\n",
    "    except ValueError:\n",
    "        return [edit]"
   ]
  },
  {
   "cell_type": "markdown",
   "id": "79c61b51-9213-41ee-84fd-c000724ef159",
   "metadata": {},
   "source": [
    "Concretely, this converts our example edit `ⲟⲕ → ⲱⲅ / ⲡⲁⲛⲧ_ⲣⲁⲧⲱⲣ`, into the following:"
   ]
  },
  {
   "cell_type": "code",
   "execution_count": 28,
   "id": "5f21a93a-4412-4691-9471-19ee4ae074f8",
   "metadata": {
    "scrolled": true
   },
   "outputs": [
    {
     "data": {
      "text/html": [
       "<div>\n",
       "<style scoped>\n",
       "    .dataframe tbody tr th:only-of-type {\n",
       "        vertical-align: middle;\n",
       "    }\n",
       "\n",
       "    .dataframe tbody tr th {\n",
       "        vertical-align: top;\n",
       "    }\n",
       "\n",
       "    .dataframe thead th {\n",
       "        text-align: right;\n",
       "    }\n",
       "</style>\n",
       "<table border=\"1\" class=\"dataframe\">\n",
       "  <thead>\n",
       "    <tr style=\"text-align: right;\">\n",
       "      <th></th>\n",
       "      <th>input</th>\n",
       "      <th>output</th>\n",
       "      <th>context_left</th>\n",
       "      <th>context_right</th>\n",
       "    </tr>\n",
       "  </thead>\n",
       "  <tbody>\n",
       "    <tr>\n",
       "      <th>0</th>\n",
       "      <td>ⲟ</td>\n",
       "      <td>ⲱ</td>\n",
       "      <td>ⲡⲁⲛⲧ</td>\n",
       "      <td>ⲕⲣⲁⲧⲱⲣ</td>\n",
       "    </tr>\n",
       "    <tr>\n",
       "      <th>1</th>\n",
       "      <td>ⲕ</td>\n",
       "      <td>ⲅ</td>\n",
       "      <td>ⲡⲁⲛⲧⲟ</td>\n",
       "      <td>ⲣⲁⲧⲱⲣ</td>\n",
       "    </tr>\n",
       "  </tbody>\n",
       "</table>\n",
       "</div>"
      ],
      "text/plain": [
       "  input output context_left context_right\n",
       "0     ⲟ      ⲱ         ⲡⲁⲛⲧ        ⲕⲣⲁⲧⲱⲣ\n",
       "1     ⲕ      ⲅ        ⲡⲁⲛⲧⲟ         ⲣⲁⲧⲱⲣ"
      ]
     },
     "execution_count": 28,
     "metadata": {},
     "output_type": "execute_result"
    }
   ],
   "source": [
    "pd.DataFrame(flatmap(fix_CV_or_VC, get_required_edits(\"ⲡⲁⲛⲧⲟⲕⲣⲁⲧⲱⲣ\", \"ⲡⲁⲛⲧⲱⲅⲣⲁⲧⲱⲣ\")))"
   ]
  },
  {
   "cell_type": "markdown",
   "id": "342da21f-bba1-4b54-91b8-8ef53abe6ed0",
   "metadata": {},
   "source": [
    "For groups of each one vowel and one consonant being changed (in whichever order — CV, VC — and how often repeated — CVC, CVCV, CVCVCV etc.) our fix works fine.\n",
    "But if multiple consonants within one group change, e.g. with `ϩⲏϥⲧⲟⲙⲁⲥ` for `ϩⲉⲃⲇⲟⲙⲁⲥ`,\n",
    "our heuristic manages to separate the vocalic and consonantal parts (`ⲉ → ⲏ` and `ⲃⲇ → ϥⲧ`) but does not get any further.\n",
    "The rare cases where this happens would have to be looked at individually.\n",
    "\n",
    "\n",
    "TODO find out  how many cases this affects"
   ]
  },
  {
   "cell_type": "code",
   "execution_count": 29,
   "id": "31b98e4c-85ad-4281-8c81-96ec92a16950",
   "metadata": {},
   "outputs": [
    {
     "data": {
      "text/html": [
       "<div>\n",
       "<style scoped>\n",
       "    .dataframe tbody tr th:only-of-type {\n",
       "        vertical-align: middle;\n",
       "    }\n",
       "\n",
       "    .dataframe tbody tr th {\n",
       "        vertical-align: top;\n",
       "    }\n",
       "\n",
       "    .dataframe thead th {\n",
       "        text-align: right;\n",
       "    }\n",
       "</style>\n",
       "<table border=\"1\" class=\"dataframe\">\n",
       "  <thead>\n",
       "    <tr style=\"text-align: right;\">\n",
       "      <th></th>\n",
       "      <th>input</th>\n",
       "      <th>output</th>\n",
       "      <th>context_left</th>\n",
       "      <th>context_right</th>\n",
       "    </tr>\n",
       "  </thead>\n",
       "  <tbody>\n",
       "    <tr>\n",
       "      <th>0</th>\n",
       "      <td>ⲉ</td>\n",
       "      <td>ⲏ</td>\n",
       "      <td>ϩ</td>\n",
       "      <td>ⲃⲇⲟⲙⲁⲥ</td>\n",
       "    </tr>\n",
       "    <tr>\n",
       "      <th>1</th>\n",
       "      <td>ⲃⲇ</td>\n",
       "      <td>ϥⲧ</td>\n",
       "      <td>ϩⲉ</td>\n",
       "      <td>ⲟⲙⲁⲥ</td>\n",
       "    </tr>\n",
       "  </tbody>\n",
       "</table>\n",
       "</div>"
      ],
      "text/plain": [
       "  input output context_left context_right\n",
       "0     ⲉ      ⲏ            ϩ        ⲃⲇⲟⲙⲁⲥ\n",
       "1    ⲃⲇ     ϥⲧ           ϩⲉ          ⲟⲙⲁⲥ"
      ]
     },
     "execution_count": 29,
     "metadata": {},
     "output_type": "execute_result"
    }
   ],
   "source": [
    "pd.DataFrame(flatmap(fix_CV_or_VC, get_required_edits(\"ϩⲉⲃⲇⲟⲙⲁⲥ\", \"ϩⲏϥⲧⲟⲙⲁⲥ\")))"
   ]
  },
  {
   "cell_type": "markdown",
   "id": "0303aec7-22fd-41d2-8500-887f3fb56c09",
   "metadata": {},
   "source": [
    "##### Detecting Degemination\n",
    "Comparing the normative spelling ⲑⲁⲗⲁⲥⲥⲁ to the actual spelling ⲑⲁⲗⲁⲥⲁ gives us the following edit:"
   ]
  },
  {
   "cell_type": "code",
   "execution_count": 30,
   "id": "e3661a1f-5416-4320-9316-85d8bbd8292b",
   "metadata": {},
   "outputs": [
    {
     "data": {
      "text/html": [
       "<div>\n",
       "<style scoped>\n",
       "    .dataframe tbody tr th:only-of-type {\n",
       "        vertical-align: middle;\n",
       "    }\n",
       "\n",
       "    .dataframe tbody tr th {\n",
       "        vertical-align: top;\n",
       "    }\n",
       "\n",
       "    .dataframe thead th {\n",
       "        text-align: right;\n",
       "    }\n",
       "</style>\n",
       "<table border=\"1\" class=\"dataframe\">\n",
       "  <thead>\n",
       "    <tr style=\"text-align: right;\">\n",
       "      <th></th>\n",
       "      <th>operation</th>\n",
       "      <th>input</th>\n",
       "      <th>output</th>\n",
       "      <th>context_left</th>\n",
       "      <th>context_right</th>\n",
       "    </tr>\n",
       "  </thead>\n",
       "  <tbody>\n",
       "    <tr>\n",
       "      <th>0</th>\n",
       "      <td>delete</td>\n",
       "      <td>ⲥ</td>\n",
       "      <td>∅</td>\n",
       "      <td>ⲑⲁⲗⲁⲥ</td>\n",
       "      <td>ⲁ</td>\n",
       "    </tr>\n",
       "  </tbody>\n",
       "</table>\n",
       "</div>"
      ],
      "text/plain": [
       "  operation input output context_left context_right\n",
       "0    delete     ⲥ      ∅        ⲑⲁⲗⲁⲥ             ⲁ"
      ]
     },
     "execution_count": 30,
     "metadata": {},
     "output_type": "execute_result"
    }
   ],
   "source": [
    "pd.DataFrame(get_required_edits(\"ⲑⲁⲗⲁⲥⲥⲁ\", \"ⲑⲁⲗⲁⲥⲁ\"))"
   ]
  },
  {
   "cell_type": "markdown",
   "id": "d7401ddd-723f-4b3b-bb8d-16e4bf93aa71",
   "metadata": {},
   "source": [
    "Even though this is a correct application of the algorithm and reflects the minimum amount of edits needed to transform one string into the other—ⲑⲁⲗⲁⲥ is the longest common substring after all—it does not clearly indicate what might be going on phonetically.\n",
    "\n",
    "A deviation from ⲑⲁⲗⲁⲥⲥⲁ to ⲑⲁⲗⲁⲥⲁ is no change of ⲥ-elision (as, for example, `ⲗⲟⲅⲓⲥⲙⲟⲥ` to `ⲗⲟⲅⲓ̈ⲙⲟⲥ` would be), but rather a degemination of ⲥ, which we want to recognise as such.\n",
    "\n",
    "Therefore we transform all rules of the form $\\alpha\\to \\emptyset / s_L\\alpha \\_ s_R$ and $\\alpha\\to\\emptyset/s_L\\_\\alpha s_R$ into $\\alpha\\alpha\\to\\alpha / s_L\\_s_R$."
   ]
  },
  {
   "cell_type": "code",
   "execution_count": 31,
   "id": "4381029d-b0fb-40be-9400-3fc1b29ee5de",
   "metadata": {},
   "outputs": [],
   "source": [
    "def fix_degemination(edit):\n",
    "    if edit[\"output\"] == \"∅\":\n",
    "        if edit[\"context_left\"].endswith(edit[\"input\"]):\n",
    "            return {\n",
    "                \"input\": edit[\"input\"] * 2,\n",
    "                \"output\": edit[\"input\"],\n",
    "                \"context_left\": edit[\"context_left\"][:-len(edit[\"input\"])],\n",
    "                \"context_right\": edit[\"context_right\"]\n",
    "            }\n",
    "        elif edit[\"context_right\"].startswith(edit[\"input\"]):\n",
    "            return {\n",
    "                \"input\": edit[\"input\"] * 2,\n",
    "                \"output\": edit[\"input\"],\n",
    "                \"context_left\": edit[\"context_left\"],\n",
    "                \"context_right\": edit[\"context_right\"][len(edit[\"input\"]):]\n",
    "            }\n",
    "        else:\n",
    "            return edit\n",
    "    else:\n",
    "        return edit            "
   ]
  },
  {
   "cell_type": "markdown",
   "id": "a3300322-0237-4c24-b06a-083e4c354af2",
   "metadata": {},
   "source": [
    "This works as expected:"
   ]
  },
  {
   "cell_type": "code",
   "execution_count": 32,
   "id": "ba7636a5-8b57-40c9-99e0-6001ee47c586",
   "metadata": {},
   "outputs": [
    {
     "data": {
      "text/html": [
       "<div>\n",
       "<style scoped>\n",
       "    .dataframe tbody tr th:only-of-type {\n",
       "        vertical-align: middle;\n",
       "    }\n",
       "\n",
       "    .dataframe tbody tr th {\n",
       "        vertical-align: top;\n",
       "    }\n",
       "\n",
       "    .dataframe thead th {\n",
       "        text-align: right;\n",
       "    }\n",
       "</style>\n",
       "<table border=\"1\" class=\"dataframe\">\n",
       "  <thead>\n",
       "    <tr style=\"text-align: right;\">\n",
       "      <th></th>\n",
       "      <th>input</th>\n",
       "      <th>output</th>\n",
       "      <th>context_left</th>\n",
       "      <th>context_right</th>\n",
       "    </tr>\n",
       "  </thead>\n",
       "  <tbody>\n",
       "    <tr>\n",
       "      <th>0</th>\n",
       "      <td>ⲥⲥ</td>\n",
       "      <td>ⲥ</td>\n",
       "      <td>ⲑⲁⲗⲁ</td>\n",
       "      <td>ⲁ</td>\n",
       "    </tr>\n",
       "  </tbody>\n",
       "</table>\n",
       "</div>"
      ],
      "text/plain": [
       "  input output context_left context_right\n",
       "0    ⲥⲥ      ⲥ         ⲑⲁⲗⲁ             ⲁ"
      ]
     },
     "execution_count": 32,
     "metadata": {},
     "output_type": "execute_result"
    }
   ],
   "source": [
    "pd.DataFrame(fix_degemination(e) for e in get_required_edits(\"ⲑⲁⲗⲁⲥⲥⲁ\", \"ⲑⲁⲗⲁⲥⲁ\"))"
   ]
  },
  {
   "cell_type": "markdown",
   "id": "147c80ae-b9e4-4255-a2e3-4485fc2977da",
   "metadata": {},
   "source": [
    "##### Detecting Gemination\n",
    "\n",
    "On the other side, there are cases such as `ⲁⲣⲭⲁⲅⲅⲉⲗⲗⲟⲥ` for `ⲁⲣⲭⲁⲅⲅⲉⲗⲟⲥ` and `ⲫⲁⲣⲓⲥⲥⲉⲟⲥ` for `ⲫⲁⲣⲓⲥⲁⲓⲟⲥ`.\n",
    "Currently, they are analyzed as follows:"
   ]
  },
  {
   "cell_type": "code",
   "execution_count": 33,
   "id": "e8460f4d-285e-4b59-abeb-05c954a16f2b",
   "metadata": {},
   "outputs": [
    {
     "data": {
      "text/html": [
       "<div>\n",
       "<style scoped>\n",
       "    .dataframe tbody tr th:only-of-type {\n",
       "        vertical-align: middle;\n",
       "    }\n",
       "\n",
       "    .dataframe tbody tr th {\n",
       "        vertical-align: top;\n",
       "    }\n",
       "\n",
       "    .dataframe thead th {\n",
       "        text-align: right;\n",
       "    }\n",
       "</style>\n",
       "<table border=\"1\" class=\"dataframe\">\n",
       "  <thead>\n",
       "    <tr style=\"text-align: right;\">\n",
       "      <th></th>\n",
       "      <th>operation</th>\n",
       "      <th>input</th>\n",
       "      <th>output</th>\n",
       "      <th>context_left</th>\n",
       "      <th>context_right</th>\n",
       "    </tr>\n",
       "  </thead>\n",
       "  <tbody>\n",
       "    <tr>\n",
       "      <th>0</th>\n",
       "      <td>insert</td>\n",
       "      <td>∅</td>\n",
       "      <td>ⲗ</td>\n",
       "      <td>ⲁⲣⲭⲁⲅⲅⲉⲗ</td>\n",
       "      <td>ⲟⲥ</td>\n",
       "    </tr>\n",
       "    <tr>\n",
       "      <th>1</th>\n",
       "      <td>replace</td>\n",
       "      <td>ⲁⲓ</td>\n",
       "      <td>ⲥⲉ</td>\n",
       "      <td>ⲫⲁⲣⲓⲥ</td>\n",
       "      <td>ⲟⲥ</td>\n",
       "    </tr>\n",
       "  </tbody>\n",
       "</table>\n",
       "</div>"
      ],
      "text/plain": [
       "  operation input output context_left context_right\n",
       "0    insert     ∅      ⲗ     ⲁⲣⲭⲁⲅⲅⲉⲗ            ⲟⲥ\n",
       "1   replace    ⲁⲓ     ⲥⲉ        ⲫⲁⲣⲓⲥ            ⲟⲥ"
      ]
     },
     "execution_count": 33,
     "metadata": {},
     "output_type": "execute_result"
    }
   ],
   "source": [
    "pd.DataFrame(list(get_required_edits(\"ⲁⲣⲭⲁⲅⲅⲉⲗⲟⲥ\", \"ⲁⲣⲭⲁⲅⲅⲉⲗⲗⲟⲥ\")) + list(get_required_edits(\"ⲫⲁⲣⲓⲥⲁⲓⲟⲥ\", \"ⲫⲁⲣⲓⲥⲥⲉⲟⲥ\")))"
   ]
  },
  {
   "cell_type": "markdown",
   "id": "36436787-67eb-415b-9bc2-c8eb90ee07ea",
   "metadata": {},
   "source": [
    "Again, the detected edits obscure the probable phonetic reality.\n",
    "The process detected for the first example—ⲗ-insertion—is exceedingly rare and only a scribal error (such as the once attested `ⲕⲁⲑⲗⲟⲗⲓⲕⲟⲛ` for `ⲕⲁⲑⲟⲗⲓⲕⲟⲛ`). Rather, it belongs to the many cases of spontaneous gemination of Greek consonants (such as `ⲑⲁⲗⲗⲁⲥⲥⲁ` for `ⲑⲁⲗⲁⲥⲥⲁ`) or diplographies (such as `ⲁⲛⲁⲥⲁⲥⲧⲁⲥⲓⲥ` for `ⲁⲛⲁⲥⲧⲁⲥⲓⲥ`).\n",
    "\n",
    "The second example is a bit more involved. It makes sense to analyse the edit `replace ⲁⲓ → ⲥⲉ` rather as two edits: `insert ⲥ` (or even better: `replace ⲥ → ⲥⲥ`), `replace ⲁⲓ → ⲉ` (which is a common change).\n",
    "\n",
    "To detect simple geminations as in the first example, we convert all edits of the form $\\emptyset\\to\\alpha/s_L\\alpha\\_s_R$ and $\\emptyset\\to\\alpha/s_L\\_\\alpha s_R$ to $\\alpha\\to\\alpha\\alpha/s_L\\_s_R$ (dual to the above).\n",
    "Note that this change applies to $\\alpha$ of any length, so it will also catch two- or three-character diplographies.\n",
    "\n",
    "To detect compounded geminations, we convert all edits of the form $t_1\\to\\alpha t_2/s_L\\alpha\\_s_R$ into two edits: $\\alpha\\to\\alpha\\alpha/s_L\\_t_1s_R$, $t_1\\to t_2/s_L\\_s_R$.\n",
    "\n",
    "With this in mind, deviation such as `ⲙⲁⲥⲥⲓⲅⲟⲱ` from `ⲙⲁⲥⲧⲓⲅⲟⲱ` ist detected as a gemination (because in the edit `ⲥ → ⲧ / ⲙⲁⲥ_ⲓⲅⲟⲱ`) the input appears on the right edge of the left context.\n",
    "The described conversions now lead to two edits, one gemination: `ⲥ → ⲥⲥ / ⲙⲁⲥ_ⲓⲅⲟⲱ` and a deletion `ⲧ → ∅`.\n",
    "This again obscures the probable phonetic reality: The `ⲧ` seems to be either made into a sibilant before `ⲓ` (a process which is not unusual, happening for example during the development from Proto-Indo-European into Greek (see Rix) or in the Kalamian languages (Austronesian)).\n",
    "We therefore have to refine our heuristic:\n",
    "Only if the input is actually shorter than the output, i.e. either an insertion like with `ⲑⲁⲗⲁⲥⲥⲁ` or a compounded gemination like with `ⲫⲁⲣⲓⲥⲥⲉⲟⲥ` above.\n",
    "We check this by comparing the phonological classes of input and output (i.e. whether they are C, V, VC or CV etc.) and only convert the edit rule if those phonological classes are different."
   ]
  },
  {
   "cell_type": "code",
   "execution_count": 34,
   "id": "41b120ba-3cc3-4e74-b391-b5a7dc5c1d32",
   "metadata": {
    "scrolled": true
   },
   "outputs": [],
   "source": [
    "def fix_gemination(edit):\n",
    "    input_booleans, _ = unzip(group_cv(edit[\"input\"]))\n",
    "    output_booleans, _ = unzip(group_cv(edit[\"output\"]))\n",
    "    if input_booleans == output_booleans:\n",
    "        return [edit]\n",
    "    if edit[\"input\"] == \"∅\":\n",
    "        if edit[\"context_left\"].endswith(edit[\"output\"]):\n",
    "            return [{\n",
    "                \"input\": edit[\"output\"],\n",
    "                \"output\": edit[\"output\"] * 2,\n",
    "                \"context_left\": edit[\"context_left\"][:-len(edit[\"output\"])],\n",
    "                \"context_right\": edit[\"context_right\"]\n",
    "            }]\n",
    "        elif edit[\"context_right\"].startswith(edit[\"output\"]):\n",
    "            return [{\n",
    "                \"input\": edit[\"output\"],\n",
    "                \"output\": edit[\"output\"] * 2,\n",
    "                \"context_left\": edit[\"context_left\"],\n",
    "                \"context_right\": edit[\"context_right\"][len(edit[\"output\"]):]\n",
    "            }]\n",
    "        else:\n",
    "            return [edit]\n",
    "    elif edit[\"output\"][0] == edit[\"context_left\"][-1]:\n",
    "        return [{\n",
    "            \"input\": edit[\"input\"],\n",
    "            \"output\": edit[\"output\"][1:],\n",
    "            \"context_left\": edit[\"context_left\"],\n",
    "            \"context_right\": edit[\"context_right\"]\n",
    "        }, {\n",
    "            \"input\": edit[\"context_left\"][-1],\n",
    "            \"output\": edit[\"output\"][0] * 2,\n",
    "            \"context_left\": edit[\"context_left\"][:-1],\n",
    "            \"context_right\": edit[\"input\"]+edit[\"context_right\"],\n",
    "        }]\n",
    "    else:\n",
    "        return [edit]"
   ]
  },
  {
   "cell_type": "markdown",
   "id": "8fe33973-f7de-4bbd-b575-313094412f96",
   "metadata": {},
   "source": [
    "Applying this method to our examples, we get the expected results:"
   ]
  },
  {
   "cell_type": "code",
   "execution_count": 35,
   "id": "5ecbef1f-f363-4b36-9842-7082733b3ff1",
   "metadata": {},
   "outputs": [
    {
     "data": {
      "text/html": [
       "<div>\n",
       "<style scoped>\n",
       "    .dataframe tbody tr th:only-of-type {\n",
       "        vertical-align: middle;\n",
       "    }\n",
       "\n",
       "    .dataframe tbody tr th {\n",
       "        vertical-align: top;\n",
       "    }\n",
       "\n",
       "    .dataframe thead th {\n",
       "        text-align: right;\n",
       "    }\n",
       "</style>\n",
       "<table border=\"1\" class=\"dataframe\">\n",
       "  <thead>\n",
       "    <tr style=\"text-align: right;\">\n",
       "      <th></th>\n",
       "      <th>input</th>\n",
       "      <th>output</th>\n",
       "      <th>context_left</th>\n",
       "      <th>context_right</th>\n",
       "      <th>operation</th>\n",
       "    </tr>\n",
       "  </thead>\n",
       "  <tbody>\n",
       "    <tr>\n",
       "      <th>0</th>\n",
       "      <td>ⲗ</td>\n",
       "      <td>ⲗⲗ</td>\n",
       "      <td>ⲁⲣⲭⲁⲅⲅⲉ</td>\n",
       "      <td>ⲟⲥ</td>\n",
       "      <td>NaN</td>\n",
       "    </tr>\n",
       "    <tr>\n",
       "      <th>1</th>\n",
       "      <td>ⲁⲓ</td>\n",
       "      <td>ⲉ</td>\n",
       "      <td>ⲫⲁⲣⲓⲥ</td>\n",
       "      <td>ⲟⲥ</td>\n",
       "      <td>NaN</td>\n",
       "    </tr>\n",
       "    <tr>\n",
       "      <th>2</th>\n",
       "      <td>ⲥ</td>\n",
       "      <td>ⲥⲥ</td>\n",
       "      <td>ⲫⲁⲣⲓ</td>\n",
       "      <td>ⲁⲓⲟⲥ</td>\n",
       "      <td>NaN</td>\n",
       "    </tr>\n",
       "    <tr>\n",
       "      <th>3</th>\n",
       "      <td>ⲧ</td>\n",
       "      <td>ⲥ</td>\n",
       "      <td>ⲙⲁⲥ</td>\n",
       "      <td>ⲓⲅⲟⲱ</td>\n",
       "      <td>replace</td>\n",
       "    </tr>\n",
       "  </tbody>\n",
       "</table>\n",
       "</div>"
      ],
      "text/plain": [
       "  input output context_left context_right operation\n",
       "0     ⲗ     ⲗⲗ      ⲁⲣⲭⲁⲅⲅⲉ            ⲟⲥ       NaN\n",
       "1    ⲁⲓ      ⲉ        ⲫⲁⲣⲓⲥ            ⲟⲥ       NaN\n",
       "2     ⲥ     ⲥⲥ         ⲫⲁⲣⲓ          ⲁⲓⲟⲥ       NaN\n",
       "3     ⲧ      ⲥ          ⲙⲁⲥ          ⲓⲅⲟⲱ   replace"
      ]
     },
     "execution_count": 35,
     "metadata": {},
     "output_type": "execute_result"
    }
   ],
   "source": [
    "pd.DataFrame(\n",
    "    list(flatmap(fix_gemination, get_required_edits(\"ⲁⲣⲭⲁⲅⲅⲉⲗⲟⲥ\", \"ⲁⲣⲭⲁⲅⲅⲉⲗⲗⲟⲥ\"))) \n",
    "    + list(flatmap(fix_gemination, get_required_edits(\"ⲫⲁⲣⲓⲥⲁⲓⲟⲥ\", \"ⲫⲁⲣⲓⲥⲥⲉⲟⲥ\")))\n",
    "    + list(flatmap(fix_gemination, get_required_edits(\"ⲙⲁⲥⲧⲓⲅⲟⲱ\", \"ⲙⲁⲥⲥⲓⲅⲟⲱ\")))\n",
    ")"
   ]
  },
  {
   "cell_type": "markdown",
   "id": "04e8f78c-625a-4c9f-84a8-ab4d600d7afb",
   "metadata": {},
   "source": [
    "##### Protecting Vocalic Digraphs\n",
    "Another problem arises with the analysis of the very common Greek-Coptic word `ⲭⲣⲉⲓⲁ`:"
   ]
  },
  {
   "cell_type": "code",
   "execution_count": 36,
   "id": "32dc43a4-dcbd-41bb-a4a5-4371e7252200",
   "metadata": {},
   "outputs": [
    {
     "data": {
      "text/html": [
       "<div>\n",
       "<style scoped>\n",
       "    .dataframe tbody tr th:only-of-type {\n",
       "        vertical-align: middle;\n",
       "    }\n",
       "\n",
       "    .dataframe tbody tr th {\n",
       "        vertical-align: top;\n",
       "    }\n",
       "\n",
       "    .dataframe thead th {\n",
       "        text-align: right;\n",
       "    }\n",
       "</style>\n",
       "<table border=\"1\" class=\"dataframe\">\n",
       "  <thead>\n",
       "    <tr style=\"text-align: right;\">\n",
       "      <th></th>\n",
       "      <th>operation</th>\n",
       "      <th>input</th>\n",
       "      <th>output</th>\n",
       "      <th>context_left</th>\n",
       "      <th>context_right</th>\n",
       "    </tr>\n",
       "  </thead>\n",
       "  <tbody>\n",
       "    <tr>\n",
       "      <th>0</th>\n",
       "      <td>delete</td>\n",
       "      <td>ⲉ</td>\n",
       "      <td>∅</td>\n",
       "      <td>ⲭⲣ</td>\n",
       "      <td>ⲓⲁ</td>\n",
       "    </tr>\n",
       "  </tbody>\n",
       "</table>\n",
       "</div>"
      ],
      "text/plain": [
       "  operation input output context_left context_right\n",
       "0    delete     ⲉ      ∅           ⲭⲣ            ⲓⲁ"
      ]
     },
     "execution_count": 36,
     "metadata": {},
     "output_type": "execute_result"
    }
   ],
   "source": [
    "pd.DataFrame(get_required_edits(\"ⲭⲣⲉⲓⲁ\", \"ⲭⲣⲓⲁ\"))"
   ]
  },
  {
   "cell_type": "markdown",
   "id": "6d915518-dfe3-473c-8ca7-da2c732f5bbd",
   "metadata": {},
   "source": [
    "What is analysed here as a deletion of `ⲉ` in fact reflects a common tendency to write the Greek digraph `ⲉⲓ` as plain `ⲓ`,\n",
    "pointing to a merger of the phonemes encoded by those letters. This is obscured by the fact that `ⲓ` does not appear in the input portion (because it is common to both strings).\n",
    "\n",
    "A common solution would be to 'protect' the digraphs in question, i.e. convert them into one-character segments (e.g. `ⲉⲓ` into `ë`) and then run the pattern matching algorithm on these modified strings (e.g. `ⲭⲣëⲁ → ⲭⲣⲓⲁ`, resulting in a rule `ë → ⲓ`) and then convert those one-character segments in rule inputs, outputs, left and right contexts back into their respective digraphs. That's what we are going for as well.\n",
    "\n",
    "We devise arbitrary one-character replacements for all Greek vowel digraphs and define an encoding step and a decoding step:"
   ]
  },
  {
   "cell_type": "code",
   "execution_count": 37,
   "id": "d68fc7d0-889b-4c4e-a288-f319a9d625d3",
   "metadata": {},
   "outputs": [],
   "source": [
    "protected_digraphs = {\n",
    "    \"ⲁⲓ\": \"ä\",\n",
    "    \"ⲉⲓ\": \"ë\",\n",
    "    \"ⲏⲓ\": \"ḧ\",\n",
    "    \"ⲟⲓ\": \"ö\",\n",
    "    \"ⲩⲓ\": \"ü\",\n",
    "    \"ⲱⲓ\": \"ẅ\",\n",
    "    \"ⲁⲩ\": \"â\",\n",
    "    \"ⲉⲩ\": \"ê\",\n",
    "    \"ⲟⲩ\": \"ô\",\n",
    "    \"ⲏⲩ\": \"ĥ\",\n",
    "    \"ⲱⲩ\": \"ŵ\",\n",
    "}\n",
    "\n",
    "def protect_digraphs(string):\n",
    "    result = string\n",
    "    for digraph, code in protected_digraphs.items():\n",
    "        result = result.replace(digraph, code)\n",
    "    return result\n",
    "\n",
    "def unprotect_digraphs(string):\n",
    "    result = string\n",
    "    for digraph, code in protected_digraphs.items():\n",
    "        result = result.replace(code, digraph)\n",
    "    return result\n",
    "\n",
    "def unprotect_edit(edit):\n",
    "    return {\n",
    "        \"input\": unprotect_digraphs(edit[\"input\"]),\n",
    "        \"output\": unprotect_digraphs(edit[\"output\"]),\n",
    "        \"context_left\": unprotect_digraphs(edit[\"context_left\"]),\n",
    "        \"context_right\": unprotect_digraphs(edit[\"context_right\"])\n",
    "    }"
   ]
  },
  {
   "cell_type": "markdown",
   "id": "cc9880df-8972-43e8-8365-08888dffb6ae",
   "metadata": {},
   "source": [
    "Adding these functions to the mix, we get the desired output:"
   ]
  },
  {
   "cell_type": "code",
   "execution_count": 38,
   "id": "bcc4633a-90d2-4a2e-a174-d859a6aa3e62",
   "metadata": {},
   "outputs": [
    {
     "data": {
      "text/html": [
       "<div>\n",
       "<style scoped>\n",
       "    .dataframe tbody tr th:only-of-type {\n",
       "        vertical-align: middle;\n",
       "    }\n",
       "\n",
       "    .dataframe tbody tr th {\n",
       "        vertical-align: top;\n",
       "    }\n",
       "\n",
       "    .dataframe thead th {\n",
       "        text-align: right;\n",
       "    }\n",
       "</style>\n",
       "<table border=\"1\" class=\"dataframe\">\n",
       "  <thead>\n",
       "    <tr style=\"text-align: right;\">\n",
       "      <th></th>\n",
       "      <th>input</th>\n",
       "      <th>output</th>\n",
       "      <th>context_left</th>\n",
       "      <th>context_right</th>\n",
       "    </tr>\n",
       "  </thead>\n",
       "  <tbody>\n",
       "    <tr>\n",
       "      <th>0</th>\n",
       "      <td>ⲉⲓ</td>\n",
       "      <td>ⲓ</td>\n",
       "      <td>ⲭⲣ</td>\n",
       "      <td>ⲁ</td>\n",
       "    </tr>\n",
       "  </tbody>\n",
       "</table>\n",
       "</div>"
      ],
      "text/plain": [
       "  input output context_left context_right\n",
       "0    ⲉⲓ      ⲓ           ⲭⲣ             ⲁ"
      ]
     },
     "execution_count": 38,
     "metadata": {},
     "output_type": "execute_result"
    }
   ],
   "source": [
    "pd.DataFrame(map(unprotect_edit, get_required_edits(protect_digraphs(\"ⲭⲣⲉⲓⲁ\"), protect_digraphs(\"ⲭⲣⲓⲁ\"))))"
   ]
  },
  {
   "cell_type": "markdown",
   "id": "73d56f61-ca03-48de-aae4-800e83598656",
   "metadata": {},
   "source": [
    "##### Putting it All Together"
   ]
  },
  {
   "cell_type": "markdown",
   "id": "891e6905-97fb-4888-8c36-c136180315f0",
   "metadata": {},
   "source": [
    "We have now defined all necessary post-processing adjustments and wrap the call to the pattern matching functions so that all fixes are applied automatically on every comparison:"
   ]
  },
  {
   "cell_type": "code",
   "execution_count": 39,
   "id": "f59c2337-9e24-4150-876a-b5d6ec156cdc",
   "metadata": {},
   "outputs": [],
   "source": [
    "def get_required_edits_improved(x, y):\n",
    "    return flatmap(fix_CV_or_VC,\n",
    "        map(fix_degemination,\n",
    "            flatmap(fix_gemination, \n",
    "                map(unprotect_edit,\n",
    "                    get_required_edits(\n",
    "                        protect_digraphs(x), \n",
    "                        protect_digraphs(y)\n",
    "                    )\n",
    "                )\n",
    "            )\n",
    "        )\n",
    "    )"
   ]
  },
  {
   "cell_type": "markdown",
   "id": "68adf574-709d-4860-b988-57108ae0cb75",
   "metadata": {},
   "source": [
    "#### Results\n",
    "\n",
    "We apply this improved pattern match to each pair of `greek_lemma` and `orthography_clean` in our data."
   ]
  },
  {
   "cell_type": "code",
   "execution_count": 40,
   "id": "2862be71-15ce-40d0-8030-cec6e19c586e",
   "metadata": {},
   "outputs": [],
   "source": [
    "df_diff = df_simple.apply(\n",
    "    lambda row: list(get_required_edits_improved(row[\"greek_lemma\"], row[\"orthography_clean\"])), \n",
    "    axis=1\n",
    ").explode().dropna()\n",
    "df_diff = pd.DataFrame(df_diff.tolist(), index=df_diff.index)\n",
    "df_diff = df_diff.merge(df_simple[[\"greek_lemma\", \"orthography\", \"dialect\", \"date_approximate\", \"earliest\", \"latest\"]], on=\"id\")\n",
    "df_diff = df_diff[df_diff[\"greek_lemma\"].str.len() > 0]"
   ]
  },
  {
   "cell_type": "markdown",
   "id": "803543e8-8c7c-4afb-a5c9-dde1b8f56fb0",
   "metadata": {},
   "source": [
    "A large part of the now detected spelling variation originates from morphological differences between the Greek dictionary form (1st person singular for verbs, nominative singular masculine for adjectives and nouns) and the form employed in coptic (a reduced form of the infinitive / the imperative, occasionally the nominative singular neuter, adverbial endings). As the morphological transformation of Greek words into Coptic is not our main focus, we can safely remove those entries:"
   ]
  },
  {
   "cell_type": "code",
   "execution_count": 41,
   "id": "8deaeb59-840f-4dc6-8c78-9d814a5a7213",
   "metadata": {},
   "outputs": [],
   "source": [
    "# remove verbal endings\n",
    "df_diff = df_diff[~(\n",
    "    (\n",
    "        df_diff[\"input\"].str.endswith((\"ⲱ\", \"ⲟⲙⲁⲓ\", \"ⲙⲓ\"))\n",
    "    ) & (\n",
    "        df_diff[\"context_right\"] == \"#\"\n",
    "    )\n",
    ") & ~( # remove stuff like ⲭⲟⲣⲉⲱ → ⲭⲟⲣⲉⲩⲉ\n",
    "    (df_diff[\"context_right\"] == \"ⲉⲱ\")\n",
    "    & (df_diff[\"input\"] == \"∅\")\n",
    "    & (df_diff[\"output\"] == \"ⲉⲩ\")\n",
    ")]\n",
    "\n",
    "# remove nominal morphology\n",
    "df_diff = df_diff[~(\n",
    "    (df_diff[\"context_right\"] == \"#\") \n",
    "    & (\n",
    "        (df_diff[\"input\"].isin({\"ⲥ\", \"ⲛ\"}) & df_diff[\"output\"].isin({\"ⲛ\", \"ⲩ\"}) & df_diff[\"context_left\"].str.endswith(\"ⲟ\"))\n",
    "        | ((df_diff[\"input\"] == \"ⲟⲥ\") & (df_diff[\"output\"].isin({\"ⲏ\", \"ⲁ\", \"ⲱⲛ\", \"ⲱ\", \"ⲉ\", \"ⲟⲩ\"})))\n",
    "        | ((df_diff[\"input\"] == \"ⲟⲛ\") & (df_diff[\"output\"] == \"ⲁ\"))\n",
    "        | ((df_diff[\"input\"] == \"ⲩⲥ\") & (df_diff[\"output\"] == \"ⲏ\"))\n",
    "        | ((df_diff[\"input\"] == \"ⲥ\") & (df_diff[\"output\"] == \"ⲛ\"))\n",
    "        | ((df_diff[\"input\"] == \"ⲛ\") & (df_diff[\"output\"] == \"ⲥ\"))\n",
    "        | ((df_diff[\"input\"] == \"ⲏ\") & (df_diff[\"output\"] == \"ⲟⲟⲩⲉ\"))\n",
    "    )\n",
    ") & ~(\n",
    "    (df_diff[\"context_right\"] == \"ⲥ\")\n",
    "    & (\n",
    "        ((df_diff[\"input\"] == \"ⲟ\") & (df_diff[\"output\"] == \"ⲏ\"))\n",
    "        | ((df_diff[\"input\"] == \"ⲏ\") & (df_diff[\"output\"] == \"ⲟ\"))\n",
    "    )\n",
    ") & ~(\n",
    "    (df_diff[\"context_left\"] == \"#\")\n",
    "    & (\n",
    "        ((df_diff[\"input\"] == \"ϩ\") & df_diff[\"output\"].isin({\"ⲫ\", \"ⲑ\"}))\n",
    "        & ((df_diff[\"input\"] == \"∅\") & (df_diff[\"output\"].isin({\"ⲑ\", \"ⲧⲟⲥ\"})))\n",
    "    )\n",
    ") & ~(\n",
    "    ((df_diff[\"input\"] == \"ⲩ\") & (df_diff[\"output\"] == \"ⲓ\") & (df_diff[\"context_left\"] == \"ⲉⲗⲁⲭ\"))\n",
    "    & ((df_diff[\"input\"] == \"ⲟⲥ\") & (df_diff[\"output\"] == \"∅\") & (df_diff[\"context_left\"] == \"ⲓⲟⲩⲇⲁⲓ\"))\n",
    ")]\n",
    "\n",
    "# remove adverbial endings\n",
    "df_diff = df_diff[~(\n",
    "    (df_diff[\"context_right\"] == \"ⲥ\") \n",
    "    & (df_diff[\"input\"].isin({\"ⲟ\", \"ⲏ\"}) & (df_diff[\"output\"] == \"ⲱ\"))\n",
    ")]"
   ]
  },
  {
   "cell_type": "markdown",
   "id": "e24e50a8-a754-409a-8d82-fb0b4d221217",
   "metadata": {},
   "source": [
    "There are also large amounts of abbreviated Greek words in Coptic texts, e.g. `ⲡⲛⲁ` for `ⲡⲛⲉⲩⲙⲁ`, `ⲭⲥ` for `ⲭⲣⲓⲥⲧⲟⲥ`.\n",
    "Since deleted letters can give no clues about their phonetic reality, we can also remove all deletions for the most commonly abbreviated words (collected in the `blacklist` variable)."
   ]
  },
  {
   "cell_type": "code",
   "execution_count": 42,
   "id": "4046a308-cbdd-4798-be81-b385eaa957bf",
   "metadata": {},
   "outputs": [],
   "source": [
    "blacklist = {\n",
    "    \"\"\n",
    "    \"ⲡⲛⲉⲩⲙⲁ\",\n",
    "    \"ⲭⲣⲓⲥⲧⲟⲥ\", \"ⲭⲣⲏⲥⲧⲟⲥ\",\n",
    "    \"ⲥⲧⲁⲩⲣⲟⲥ\", \"ⲥⲧⲁⲩⲣⲟⲱ\",\n",
    "    \"ⲥⲱⲧⲏⲣ\",\n",
    "    \"ⲡⲛⲉⲩⲙⲁⲧⲓⲕⲟⲥ\",\n",
    "    \"ⲇⲉⲓⲛⲁ\",\n",
    "    \"ⲕⲩⲣⲓⲟⲥ\",\n",
    "    \"ⲡⲁⲛⲧⲟⲕⲣⲁⲧⲱⲣ\",\n",
    "    \"ⲁⲙⲏⲛ\" # sometimes ϥⲑ\n",
    "}\n",
    "\n",
    "\n",
    "# remove common abbreviations\n",
    "df_diff = df_diff[~(\n",
    "    (df_diff[\"output\"] == \"∅\") & df_diff[\"greek_lemma\"].isin(blacklist)\n",
    ")]"
   ]
  },
  {
   "cell_type": "markdown",
   "id": "ba90b6b6-ef62-4804-87ea-76e3693536f9",
   "metadata": {},
   "source": [
    "# Data Presentation and Analysis\n",
    "\n",
    "## Introduction\n",
    "\n",
    "Now that we have collected all spelling deviations across all coptic texts, we can, for example, plot them by century:"
   ]
  },
  {
   "cell_type": "code",
   "execution_count": 43,
   "id": "fae01f31-0d63-49b8-87bb-13b10c94c828",
   "metadata": {},
   "outputs": [
    {
     "data": {
      "image/png": "[encoded data removed]",
      "text/plain": [
       "<Figure size 640x480 with 1 Axes>"
      ]
     },
     "metadata": {},
     "output_type": "display_data"
    }
   ],
   "source": [
    "dates_by_century = lambda df: (df.dropna(subset={\"date_approximate\"})[\"date_approximate\"].rename(\"century\") / 100).apply(math.ceil).value_counts()\n",
    "pd.DataFrame({\"attestations\": dates_by_century(df_simple), \"deviations\": dates_by_century(df_diff)}).plot.bar()\n",
    "write_figure(\"attestations_deviations\")"
   ]
  },
  {
   "cell_type": "markdown",
   "id": "db65bf78-3f22-4f8e-9daa-c121a425c58f",
   "metadata": {},
   "source": [
    "And if we scale down the amount of deviations by the total amount of attestations, we get the total frequency of orthographic deviations across the centuries. We might see a rising trend."
   ]
  },
  {
   "cell_type": "code",
   "execution_count": 44,
   "id": "95e39b9d-f158-4ac7-8b55-73b99915947a",
   "metadata": {
    "scrolled": true
   },
   "outputs": [
    {
     "data": {
      "image/png": "[encoded data removed]",
      "text/plain": [
       "<Figure size 640x480 with 1 Axes>"
      ]
     },
     "metadata": {},
     "output_type": "display_data"
    }
   ],
   "source": [
    "(dates_by_century(df_diff) / dates_by_century(df_simple)).plot.bar()\n",
    "write_figure(\"attestations_by_deviations\")"
   ]
  },
  {
   "cell_type": "markdown",
   "id": "5c741663-8d87-4df1-8e36-6130ebd75610",
   "metadata": {},
   "source": [
    "### Statistical Prerequisites: Rate\n",
    "\n",
    "We define the *rate* of an orthographic deviation to be its absolute frequency (how often it did appear) divided by the frequency with which the input appears in all Greek lemmata (how often it could in theory appear).\n",
    "\n",
    "Note that the *rate* of an insertion is undefined. We cannot count the frequency of its input, i.e. the empty string."
   ]
  },
  {
   "cell_type": "code",
   "execution_count": 45,
   "id": "9904146b-8310-4652-a37a-278db64c5acd",
   "metadata": {},
   "outputs": [],
   "source": [
    "def rate(the_input, the_output, predicate=pd.Series([True] * len(df_diff), index=df_diff.index)\n",
    "):\n",
    "    if the_input == \"∅\":\n",
    "        return np.nan\n",
    "    subset = df_diff[(df_diff[\"input\"] == the_input) & (df_diff[\"output\"] == the_output) & predicate]\n",
    "    total = np.sum(df_diff[predicate][\"greek_lemma\"].apply(protect_digraphs).str.count(protect_digraphs(the_input)))\n",
    "    return len(subset) / total"
   ]
  },
  {
   "cell_type": "markdown",
   "id": "8e6ec64f-ee1c-4430-910d-6135c1bb8968",
   "metadata": {},
   "source": [
    "For example, the change `ⲉⲓ → ⲓ` applies to approximately 57% (more than half) of `ⲉⲓ` digraphs."
   ]
  },
  {
   "cell_type": "code",
   "execution_count": 46,
   "id": "f2112653-aad3-4955-8551-b9ad17e48cd1",
   "metadata": {},
   "outputs": [
    {
     "data": {
      "text/plain": [
       "0.5705724649108973"
      ]
     },
     "execution_count": 46,
     "metadata": {},
     "output_type": "execute_result"
    }
   ],
   "source": [
    "rate(\"ⲉⲓ\", \"ⲓ\")"
   ]
  },
  {
   "cell_type": "markdown",
   "id": "e03a3fb2-7fae-4e4d-a463-16bfeaf92587",
   "metadata": {},
   "source": [
    "Whereas about 28% of the `ⲁⲓ` digraphs in the Greek material are written as `ⲉ`. Note that this value is likely just a lower bound, as many `ⲁⲓ` digraphs (the middle/passiv ending `ⲟⲙⲁⲓ`) is not even reflected in the Coptic, but is also counted in the denominator."
   ]
  },
  {
   "cell_type": "code",
   "execution_count": 47,
   "id": "4fb3096f-22c1-4b81-9126-1a574312f896",
   "metadata": {},
   "outputs": [
    {
     "data": {
      "text/plain": [
       "0.23987121008854306"
      ]
     },
     "execution_count": 47,
     "metadata": {},
     "output_type": "execute_result"
    }
   ],
   "source": [
    "rate(\"ⲁⲓ\", \"ⲉ\")"
   ]
  },
  {
   "cell_type": "markdown",
   "id": "68928b42-0b28-4b6b-a5da-ba75f4ec60df",
   "metadata": {},
   "source": [
    "We can also measure the rate of the change across dialects:"
   ]
  },
  {
   "cell_type": "code",
   "execution_count": 48,
   "id": "1c79627c-2db8-4268-abda-1d7f8eb839c9",
   "metadata": {},
   "outputs": [
    {
     "data": {
      "text/plain": [
       "(0.0, 1.0)"
      ]
     },
     "execution_count": 48,
     "metadata": {},
     "output_type": "execute_result"
    },
    {
     "data": {
      "image/png": "[encoded data removed]",
      "text/plain": [
       "<Figure size 640x480 with 1 Axes>"
      ]
     },
     "metadata": {},
     "output_type": "display_data"
    }
   ],
   "source": [
    "result = dict()\n",
    "for dialect in set(df_diff[\"dialect\"].values):\n",
    "    result[dialect] = rate(\"ⲟ\", \"ⲱ\", predicate=df_diff[\"dialect\"] == dialect)\n",
    "pd.Series(result).plot.bar().set_ylim(0, 1)"
   ]
  },
  {
   "cell_type": "markdown",
   "id": "e7687688-72df-4e21-aed1-0bfd15204b7b",
   "metadata": {},
   "source": [
    "Or across centuries:"
   ]
  },
  {
   "cell_type": "code",
   "execution_count": 49,
   "id": "a9867a05-a223-4aca-8395-baefffcc07bc",
   "metadata": {},
   "outputs": [
    {
     "name": "stderr",
     "output_type": "stream",
     "text": [
      "/tmp/ipykernel_2319506/1860857545.py:7: RuntimeWarning: invalid value encountered in scalar divide\n",
      "  return len(subset) / total\n"
     ]
    },
    {
     "data": {
      "text/plain": [
       "(0.0, 1.0)"
      ]
     },
     "execution_count": 49,
     "metadata": {},
     "output_type": "execute_result"
    },
    {
     "data": {
      "image/png": "[encoded data removed]",
      "text/plain": [
       "<Figure size 640x480 with 1 Axes>"
      ]
     },
     "metadata": {},
     "output_type": "display_data"
    }
   ],
   "source": [
    "df_diff[\"century\"] = (df_diff[\"date_approximate\"] / 100).fillna(-1).astype(int)\n",
    "result = dict()\n",
    "for century in set(df_diff[\"century\"].values) - {-1}:\n",
    "    result[century] = rate(\"ⲟⲓ\", \"ⲉ\", predicate=df_diff[\"century\"] == century)\n",
    "pd.Series(result).plot.bar().set_ylim(0, 1)"
   ]
  },
  {
   "cell_type": "markdown",
   "id": "d6464d04-a7f5-4c41-81ad-24ed723b1c18",
   "metadata": {},
   "source": [
    "## (De-)Gemination\n",
    "\n",
    "Since we earlier managed to identify geminations and degeminations, we can now look at how they are distributed in the data."
   ]
  },
  {
   "cell_type": "code",
   "execution_count": 50,
   "id": "de2bb2a3-5499-4919-8e25-751cb6e92caa",
   "metadata": {},
   "outputs": [
    {
     "data": {
      "text/plain": [
       "<Axes: >"
      ]
     },
     "execution_count": 50,
     "metadata": {},
     "output_type": "execute_result"
    },
    {
     "data": {
      "image/png": "[encoded data removed]",
      "text/plain": [
       "<Figure size 640x480 with 1 Axes>"
      ]
     },
     "metadata": {},
     "output_type": "display_data"
    }
   ],
   "source": [
    "plt.rcParams['font.family'] = 'Antinoou'\n",
    "geminations = df_diff[(df_diff[\"input\"] * 2 == df_diff[\"output\"])]\n",
    "degeminations = df_diff[(df_diff[\"input\"] == df_diff[\"output\"] * 2)]\n",
    "\n",
    "pd.DataFrame({\n",
    "    \"geminations\": geminations[geminations[\"input\"].str.len() == 1][\"input\"].value_counts(),\n",
    "    \"degeminations\": degeminations[degeminations[\"output\"].str.len() == 1][\"output\"].value_counts()\n",
    "}).plot.bar()"
   ]
  },
  {
   "cell_type": "markdown",
   "id": "3d5f1f60-53cd-477a-83a4-0f210e93bf0c",
   "metadata": {},
   "source": [
    "## Comparing Deviations\n",
    "\n",
    "In the following, we want to find out which deviations are the most frequent and at which time they are most prominent.\n",
    "\n",
    "We first define a helper function to be able to abstract from the concrete instances of specific deviations and rather compare deviations with each other.\n",
    "For each type of deviation (edit), the function calculates its rate, as well as the earliest and latest dates it appears, as well as the median date of attestation."
   ]
  },
  {
   "cell_type": "code",
   "execution_count": 51,
   "id": "2413864d-9b03-4f35-afa9-2caeb9569636",
   "metadata": {},
   "outputs": [],
   "source": [
    "def get_df_deviations(df_diff, threshold=100):\n",
    "    # find the most frequent changes\n",
    "    deviation_counts = df_diff[[\"input\", \"output\"]].value_counts()\n",
    "    deviations = []\n",
    "\n",
    "    # calculate their rates\n",
    "    for k, count in dict(deviation_counts[deviation_counts >= threshold]).items():\n",
    "        the_input, the_output = k\n",
    "        deviations.append({\n",
    "            \"input\": the_input,\n",
    "            \"output\": the_output,\n",
    "            \"rate\": rate(the_input, the_output),\n",
    "            \"count\": count\n",
    "        })\n",
    "\n",
    "    # calculate their dates\n",
    "    median_date = df_diff.groupby([\"input\", \"output\"])[\"date_approximate\"].median().rename(\"date_median\")\n",
    "    earliest_date = df_diff.groupby([\"input\", \"output\"])[\"earliest\"].min().rename(\"date_earliest\")\n",
    "    latest_date = df_diff.groupby([\"input\", \"output\"])[\"latest\"].max().rename(\"date_latest\")\n",
    "    df_date = pd.merge(\n",
    "        pd.merge(\n",
    "            earliest_date, \n",
    "            latest_date, \n",
    "            on=[\"input\", \"output\"],\n",
    "            how=\"outer\"\n",
    "        ), \n",
    "        median_date, \n",
    "        on=[\"input\", \"output\"], \n",
    "        how=\"outer\"\n",
    "    )\n",
    "\n",
    "    return pd.merge(pd.DataFrame(deviations), df_date, on=[\"input\", \"output\"], how=\"left\")\n",
    "\n",
    "all_deviations = get_df_deviations(df_diff)"
   ]
  },
  {
   "cell_type": "markdown",
   "id": "c68815bc-dadb-4e1e-a7fd-20fa651cfda0",
   "metadata": {},
   "source": [
    "We can now look at the 10 most frequent deviations across all times and dialects:"
   ]
  },
  {
   "cell_type": "code",
   "execution_count": 52,
   "id": "265a3054-6ede-4c60-9dff-f7fe76e040bc",
   "metadata": {},
   "outputs": [
    {
     "data": {
      "text/html": [
       "<div>\n",
       "<style scoped>\n",
       "    .dataframe tbody tr th:only-of-type {\n",
       "        vertical-align: middle;\n",
       "    }\n",
       "\n",
       "    .dataframe tbody tr th {\n",
       "        vertical-align: top;\n",
       "    }\n",
       "\n",
       "    .dataframe thead th {\n",
       "        text-align: right;\n",
       "    }\n",
       "</style>\n",
       "<table border=\"1\" class=\"dataframe\">\n",
       "  <thead>\n",
       "    <tr style=\"text-align: right;\">\n",
       "      <th></th>\n",
       "      <th>input</th>\n",
       "      <th>output</th>\n",
       "      <th>rate</th>\n",
       "      <th>count</th>\n",
       "      <th>date_earliest</th>\n",
       "      <th>date_latest</th>\n",
       "      <th>date_median</th>\n",
       "    </tr>\n",
       "  </thead>\n",
       "  <tbody>\n",
       "    <tr>\n",
       "      <th>26</th>\n",
       "      <td>ⲱⲓ</td>\n",
       "      <td>ⲱ</td>\n",
       "      <td>0.719715</td>\n",
       "      <td>303</td>\n",
       "      <td>300.0</td>\n",
       "      <td>1199.0</td>\n",
       "      <td>889.5</td>\n",
       "    </tr>\n",
       "    <tr>\n",
       "      <th>0</th>\n",
       "      <td>ⲉⲓ</td>\n",
       "      <td>ⲓ</td>\n",
       "      <td>0.570572</td>\n",
       "      <td>3618</td>\n",
       "      <td>200.0</td>\n",
       "      <td>1199.0</td>\n",
       "      <td>749.5</td>\n",
       "    </tr>\n",
       "    <tr>\n",
       "      <th>5</th>\n",
       "      <td>ⲁⲓ</td>\n",
       "      <td>ⲉ</td>\n",
       "      <td>0.239871</td>\n",
       "      <td>894</td>\n",
       "      <td>200.0</td>\n",
       "      <td>1119.0</td>\n",
       "      <td>862.0</td>\n",
       "    </tr>\n",
       "    <tr>\n",
       "      <th>3</th>\n",
       "      <td>ⲇ</td>\n",
       "      <td>ⲧ</td>\n",
       "      <td>0.221327</td>\n",
       "      <td>1264</td>\n",
       "      <td>200.0</td>\n",
       "      <td>1199.0</td>\n",
       "      <td>749.5</td>\n",
       "    </tr>\n",
       "    <tr>\n",
       "      <th>38</th>\n",
       "      <td>ⲟⲓ</td>\n",
       "      <td>ⲉ</td>\n",
       "      <td>0.164662</td>\n",
       "      <td>178</td>\n",
       "      <td>200.0</td>\n",
       "      <td>1119.0</td>\n",
       "      <td>774.5</td>\n",
       "    </tr>\n",
       "    <tr>\n",
       "      <th>8</th>\n",
       "      <td>ⲅ</td>\n",
       "      <td>ⲕ</td>\n",
       "      <td>0.131447</td>\n",
       "      <td>706</td>\n",
       "      <td>200.0</td>\n",
       "      <td>1199.0</td>\n",
       "      <td>849.5</td>\n",
       "    </tr>\n",
       "    <tr>\n",
       "      <th>14</th>\n",
       "      <td>ϩ</td>\n",
       "      <td>∅</td>\n",
       "      <td>0.112370</td>\n",
       "      <td>466</td>\n",
       "      <td>200.0</td>\n",
       "      <td>1119.0</td>\n",
       "      <td>699.5</td>\n",
       "    </tr>\n",
       "    <tr>\n",
       "      <th>18</th>\n",
       "      <td>ϩ</td>\n",
       "      <td>ⲑ</td>\n",
       "      <td>0.100796</td>\n",
       "      <td>418</td>\n",
       "      <td>264.0</td>\n",
       "      <td>1199.0</td>\n",
       "      <td>649.5</td>\n",
       "    </tr>\n",
       "    <tr>\n",
       "      <th>7</th>\n",
       "      <td>ⲱ</td>\n",
       "      <td>ⲟ</td>\n",
       "      <td>0.099782</td>\n",
       "      <td>779</td>\n",
       "      <td>200.0</td>\n",
       "      <td>1199.0</td>\n",
       "      <td>849.5</td>\n",
       "    </tr>\n",
       "    <tr>\n",
       "      <th>30</th>\n",
       "      <td>ⲧⲓ</td>\n",
       "      <td>ϯ</td>\n",
       "      <td>0.096861</td>\n",
       "      <td>253</td>\n",
       "      <td>200.0</td>\n",
       "      <td>1199.0</td>\n",
       "      <td>987.0</td>\n",
       "    </tr>\n",
       "    <tr>\n",
       "      <th>13</th>\n",
       "      <td>ⲩ</td>\n",
       "      <td>ⲏ</td>\n",
       "      <td>0.087214</td>\n",
       "      <td>472</td>\n",
       "      <td>200.0</td>\n",
       "      <td>1199.0</td>\n",
       "      <td>824.5</td>\n",
       "    </tr>\n",
       "    <tr>\n",
       "      <th>4</th>\n",
       "      <td>ⲏ</td>\n",
       "      <td>ⲩ</td>\n",
       "      <td>0.084287</td>\n",
       "      <td>980</td>\n",
       "      <td>300.0</td>\n",
       "      <td>1199.0</td>\n",
       "      <td>900.0</td>\n",
       "    </tr>\n",
       "    <tr>\n",
       "      <th>27</th>\n",
       "      <td>ⲁⲓ</td>\n",
       "      <td>ⲁ</td>\n",
       "      <td>0.079420</td>\n",
       "      <td>296</td>\n",
       "      <td>300.0</td>\n",
       "      <td>1199.0</td>\n",
       "      <td>674.5</td>\n",
       "    </tr>\n",
       "    <tr>\n",
       "      <th>17</th>\n",
       "      <td>ⲩ</td>\n",
       "      <td>ⲓ</td>\n",
       "      <td>0.077790</td>\n",
       "      <td>421</td>\n",
       "      <td>200.0</td>\n",
       "      <td>1199.0</td>\n",
       "      <td>724.5</td>\n",
       "    </tr>\n",
       "    <tr>\n",
       "      <th>2</th>\n",
       "      <td>ⲟ</td>\n",
       "      <td>ⲱ</td>\n",
       "      <td>0.074599</td>\n",
       "      <td>1780</td>\n",
       "      <td>200.0</td>\n",
       "      <td>1299.0</td>\n",
       "      <td>887.0</td>\n",
       "    </tr>\n",
       "    <tr>\n",
       "      <th>6</th>\n",
       "      <td>ⲏ</td>\n",
       "      <td>ⲉ</td>\n",
       "      <td>0.069751</td>\n",
       "      <td>811</td>\n",
       "      <td>200.0</td>\n",
       "      <td>1199.0</td>\n",
       "      <td>774.5</td>\n",
       "    </tr>\n",
       "    <tr>\n",
       "      <th>12</th>\n",
       "      <td>ⲟⲥ</td>\n",
       "      <td>∅</td>\n",
       "      <td>0.055081</td>\n",
       "      <td>561</td>\n",
       "      <td>300.0</td>\n",
       "      <td>1199.0</td>\n",
       "      <td>749.5</td>\n",
       "    </tr>\n",
       "    <tr>\n",
       "      <th>28</th>\n",
       "      <td>ⲩ</td>\n",
       "      <td>ⲉ</td>\n",
       "      <td>0.053030</td>\n",
       "      <td>287</td>\n",
       "      <td>200.0</td>\n",
       "      <td>1199.0</td>\n",
       "      <td>887.0</td>\n",
       "    </tr>\n",
       "    <tr>\n",
       "      <th>16</th>\n",
       "      <td>ⲕ</td>\n",
       "      <td>ⲅ</td>\n",
       "      <td>0.050916</td>\n",
       "      <td>431</td>\n",
       "      <td>200.0</td>\n",
       "      <td>1199.0</td>\n",
       "      <td>899.5</td>\n",
       "    </tr>\n",
       "    <tr>\n",
       "      <th>11</th>\n",
       "      <td>ⲧ</td>\n",
       "      <td>ⲇ</td>\n",
       "      <td>0.047351</td>\n",
       "      <td>580</td>\n",
       "      <td>200.0</td>\n",
       "      <td>1199.0</td>\n",
       "      <td>862.0</td>\n",
       "    </tr>\n",
       "    <tr>\n",
       "      <th>37</th>\n",
       "      <td>ϩ</td>\n",
       "      <td>ⲫ</td>\n",
       "      <td>0.043887</td>\n",
       "      <td>182</td>\n",
       "      <td>200.0</td>\n",
       "      <td>1099.0</td>\n",
       "      <td>649.5</td>\n",
       "    </tr>\n",
       "    <tr>\n",
       "      <th>9</th>\n",
       "      <td>ⲓ</td>\n",
       "      <td>ⲉⲓ</td>\n",
       "      <td>0.043091</td>\n",
       "      <td>702</td>\n",
       "      <td>264.0</td>\n",
       "      <td>1199.0</td>\n",
       "      <td>749.5</td>\n",
       "    </tr>\n",
       "    <tr>\n",
       "      <th>15</th>\n",
       "      <td>ⲏ</td>\n",
       "      <td>ⲓ</td>\n",
       "      <td>0.038015</td>\n",
       "      <td>442</td>\n",
       "      <td>300.0</td>\n",
       "      <td>1199.0</td>\n",
       "      <td>887.0</td>\n",
       "    </tr>\n",
       "    <tr>\n",
       "      <th>45</th>\n",
       "      <td>ϩ</td>\n",
       "      <td>ⲣ</td>\n",
       "      <td>0.036653</td>\n",
       "      <td>152</td>\n",
       "      <td>300.0</td>\n",
       "      <td>1099.0</td>\n",
       "      <td>862.0</td>\n",
       "    </tr>\n",
       "    <tr>\n",
       "      <th>24</th>\n",
       "      <td>ⲗ</td>\n",
       "      <td>ⲗⲗ</td>\n",
       "      <td>0.036466</td>\n",
       "      <td>310</td>\n",
       "      <td>350.0</td>\n",
       "      <td>1199.0</td>\n",
       "      <td>900.0</td>\n",
       "    </tr>\n",
       "    <tr>\n",
       "      <th>33</th>\n",
       "      <td>ⲉⲓ</td>\n",
       "      <td>ϩⲓ</td>\n",
       "      <td>0.036430</td>\n",
       "      <td>231</td>\n",
       "      <td>300.0</td>\n",
       "      <td>1199.0</td>\n",
       "      <td>499.5</td>\n",
       "    </tr>\n",
       "    <tr>\n",
       "      <th>10</th>\n",
       "      <td>ⲓ</td>\n",
       "      <td>ⲏ</td>\n",
       "      <td>0.035787</td>\n",
       "      <td>583</td>\n",
       "      <td>300.0</td>\n",
       "      <td>1099.0</td>\n",
       "      <td>889.5</td>\n",
       "    </tr>\n",
       "    <tr>\n",
       "      <th>44</th>\n",
       "      <td>ⲅ</td>\n",
       "      <td>ⲛ</td>\n",
       "      <td>0.029045</td>\n",
       "      <td>156</td>\n",
       "      <td>350.0</td>\n",
       "      <td>1119.0</td>\n",
       "      <td>862.0</td>\n",
       "    </tr>\n",
       "    <tr>\n",
       "      <th>21</th>\n",
       "      <td>ⲉ</td>\n",
       "      <td>∅</td>\n",
       "      <td>0.027344</td>\n",
       "      <td>345</td>\n",
       "      <td>200.0</td>\n",
       "      <td>1199.0</td>\n",
       "      <td>849.5</td>\n",
       "    </tr>\n",
       "    <tr>\n",
       "      <th>42</th>\n",
       "      <td>ⲉⲓ</td>\n",
       "      <td>ϯ</td>\n",
       "      <td>0.024917</td>\n",
       "      <td>158</td>\n",
       "      <td>200.0</td>\n",
       "      <td>1199.0</td>\n",
       "      <td>849.5</td>\n",
       "    </tr>\n",
       "    <tr>\n",
       "      <th>23</th>\n",
       "      <td>ⲉ</td>\n",
       "      <td>ⲩ</td>\n",
       "      <td>0.024729</td>\n",
       "      <td>312</td>\n",
       "      <td>475.0</td>\n",
       "      <td>1199.0</td>\n",
       "      <td>899.5</td>\n",
       "    </tr>\n",
       "    <tr>\n",
       "      <th>29</th>\n",
       "      <td>ⲉ</td>\n",
       "      <td>ⲏ</td>\n",
       "      <td>0.020766</td>\n",
       "      <td>262</td>\n",
       "      <td>200.0</td>\n",
       "      <td>1199.0</td>\n",
       "      <td>774.5</td>\n",
       "    </tr>\n",
       "    <tr>\n",
       "      <th>51</th>\n",
       "      <td>ⲉⲓ</td>\n",
       "      <td>ⲉ</td>\n",
       "      <td>0.019555</td>\n",
       "      <td>124</td>\n",
       "      <td>300.0</td>\n",
       "      <td>1199.0</td>\n",
       "      <td>699.5</td>\n",
       "    </tr>\n",
       "    <tr>\n",
       "      <th>32</th>\n",
       "      <td>ⲉ</td>\n",
       "      <td>ⲓ</td>\n",
       "      <td>0.018626</td>\n",
       "      <td>235</td>\n",
       "      <td>200.0</td>\n",
       "      <td>1199.0</td>\n",
       "      <td>849.5</td>\n",
       "    </tr>\n",
       "    <tr>\n",
       "      <th>19</th>\n",
       "      <td>ⲁ</td>\n",
       "      <td>∅</td>\n",
       "      <td>0.016366</td>\n",
       "      <td>408</td>\n",
       "      <td>300.0</td>\n",
       "      <td>1099.0</td>\n",
       "      <td>899.5</td>\n",
       "    </tr>\n",
       "    <tr>\n",
       "      <th>20</th>\n",
       "      <td>ⲥ</td>\n",
       "      <td>∅</td>\n",
       "      <td>0.015039</td>\n",
       "      <td>368</td>\n",
       "      <td>300.0</td>\n",
       "      <td>1099.0</td>\n",
       "      <td>724.5</td>\n",
       "    </tr>\n",
       "    <tr>\n",
       "      <th>31</th>\n",
       "      <td>ⲓ</td>\n",
       "      <td>ⲉ</td>\n",
       "      <td>0.014916</td>\n",
       "      <td>243</td>\n",
       "      <td>200.0</td>\n",
       "      <td>1199.0</td>\n",
       "      <td>774.5</td>\n",
       "    </tr>\n",
       "    <tr>\n",
       "      <th>50</th>\n",
       "      <td>ⲕ</td>\n",
       "      <td>ϭ</td>\n",
       "      <td>0.014649</td>\n",
       "      <td>124</td>\n",
       "      <td>325.0</td>\n",
       "      <td>1199.0</td>\n",
       "      <td>649.5</td>\n",
       "    </tr>\n",
       "    <tr>\n",
       "      <th>36</th>\n",
       "      <td>ⲓ</td>\n",
       "      <td>∅</td>\n",
       "      <td>0.012645</td>\n",
       "      <td>206</td>\n",
       "      <td>200.0</td>\n",
       "      <td>1199.0</td>\n",
       "      <td>699.5</td>\n",
       "    </tr>\n",
       "    <tr>\n",
       "      <th>25</th>\n",
       "      <td>ⲁ</td>\n",
       "      <td>ⲟ</td>\n",
       "      <td>0.012195</td>\n",
       "      <td>304</td>\n",
       "      <td>200.0</td>\n",
       "      <td>1199.0</td>\n",
       "      <td>749.5</td>\n",
       "    </tr>\n",
       "    <tr>\n",
       "      <th>39</th>\n",
       "      <td>ⲛ</td>\n",
       "      <td>∅</td>\n",
       "      <td>0.011322</td>\n",
       "      <td>174</td>\n",
       "      <td>200.0</td>\n",
       "      <td>1199.0</td>\n",
       "      <td>862.0</td>\n",
       "    </tr>\n",
       "    <tr>\n",
       "      <th>49</th>\n",
       "      <td>ⲉ</td>\n",
       "      <td>ⲁⲓ</td>\n",
       "      <td>0.010938</td>\n",
       "      <td>138</td>\n",
       "      <td>400.0</td>\n",
       "      <td>1199.0</td>\n",
       "      <td>887.0</td>\n",
       "    </tr>\n",
       "    <tr>\n",
       "      <th>53</th>\n",
       "      <td>ⲙ</td>\n",
       "      <td>ⲛ</td>\n",
       "      <td>0.010441</td>\n",
       "      <td>106</td>\n",
       "      <td>300.0</td>\n",
       "      <td>1099.0</td>\n",
       "      <td>887.0</td>\n",
       "    </tr>\n",
       "  </tbody>\n",
       "</table>\n",
       "</div>"
      ],
      "text/plain": [
       "   input output      rate  count  date_earliest  date_latest  date_median\n",
       "26    ⲱⲓ      ⲱ  0.719715    303          300.0       1199.0        889.5\n",
       "0     ⲉⲓ      ⲓ  0.570572   3618          200.0       1199.0        749.5\n",
       "5     ⲁⲓ      ⲉ  0.239871    894          200.0       1119.0        862.0\n",
       "3      ⲇ      ⲧ  0.221327   1264          200.0       1199.0        749.5\n",
       "38    ⲟⲓ      ⲉ  0.164662    178          200.0       1119.0        774.5\n",
       "8      ⲅ      ⲕ  0.131447    706          200.0       1199.0        849.5\n",
       "14     ϩ      ∅  0.112370    466          200.0       1119.0        699.5\n",
       "18     ϩ      ⲑ  0.100796    418          264.0       1199.0        649.5\n",
       "7      ⲱ      ⲟ  0.099782    779          200.0       1199.0        849.5\n",
       "30    ⲧⲓ      ϯ  0.096861    253          200.0       1199.0        987.0\n",
       "13     ⲩ      ⲏ  0.087214    472          200.0       1199.0        824.5\n",
       "4      ⲏ      ⲩ  0.084287    980          300.0       1199.0        900.0\n",
       "27    ⲁⲓ      ⲁ  0.079420    296          300.0       1199.0        674.5\n",
       "17     ⲩ      ⲓ  0.077790    421          200.0       1199.0        724.5\n",
       "2      ⲟ      ⲱ  0.074599   1780          200.0       1299.0        887.0\n",
       "6      ⲏ      ⲉ  0.069751    811          200.0       1199.0        774.5\n",
       "12    ⲟⲥ      ∅  0.055081    561          300.0       1199.0        749.5\n",
       "28     ⲩ      ⲉ  0.053030    287          200.0       1199.0        887.0\n",
       "16     ⲕ      ⲅ  0.050916    431          200.0       1199.0        899.5\n",
       "11     ⲧ      ⲇ  0.047351    580          200.0       1199.0        862.0\n",
       "37     ϩ      ⲫ  0.043887    182          200.0       1099.0        649.5\n",
       "9      ⲓ     ⲉⲓ  0.043091    702          264.0       1199.0        749.5\n",
       "15     ⲏ      ⲓ  0.038015    442          300.0       1199.0        887.0\n",
       "45     ϩ      ⲣ  0.036653    152          300.0       1099.0        862.0\n",
       "24     ⲗ     ⲗⲗ  0.036466    310          350.0       1199.0        900.0\n",
       "33    ⲉⲓ     ϩⲓ  0.036430    231          300.0       1199.0        499.5\n",
       "10     ⲓ      ⲏ  0.035787    583          300.0       1099.0        889.5\n",
       "44     ⲅ      ⲛ  0.029045    156          350.0       1119.0        862.0\n",
       "21     ⲉ      ∅  0.027344    345          200.0       1199.0        849.5\n",
       "42    ⲉⲓ      ϯ  0.024917    158          200.0       1199.0        849.5\n",
       "23     ⲉ      ⲩ  0.024729    312          475.0       1199.0        899.5\n",
       "29     ⲉ      ⲏ  0.020766    262          200.0       1199.0        774.5\n",
       "51    ⲉⲓ      ⲉ  0.019555    124          300.0       1199.0        699.5\n",
       "32     ⲉ      ⲓ  0.018626    235          200.0       1199.0        849.5\n",
       "19     ⲁ      ∅  0.016366    408          300.0       1099.0        899.5\n",
       "20     ⲥ      ∅  0.015039    368          300.0       1099.0        724.5\n",
       "31     ⲓ      ⲉ  0.014916    243          200.0       1199.0        774.5\n",
       "50     ⲕ      ϭ  0.014649    124          325.0       1199.0        649.5\n",
       "36     ⲓ      ∅  0.012645    206          200.0       1199.0        699.5\n",
       "25     ⲁ      ⲟ  0.012195    304          200.0       1199.0        749.5\n",
       "39     ⲛ      ∅  0.011322    174          200.0       1199.0        862.0\n",
       "49     ⲉ     ⲁⲓ  0.010938    138          400.0       1199.0        887.0\n",
       "53     ⲙ      ⲛ  0.010441    106          300.0       1099.0        887.0"
      ]
     },
     "execution_count": 52,
     "metadata": {},
     "output_type": "execute_result"
    }
   ],
   "source": [
    "deviations_by_rate = all_deviations[all_deviations[\"rate\"] >= 0.01].sort_values(by=\"rate\", ascending=False)\n",
    "write_table(\n",
    "    deviations_by_rate[[\"rate\", \"input\", \"output\", \"count\"]].set_index(\"rate\").rename(columns={\n",
    "        \"input\": \"Norm\",\n",
    "        \"output\": \"Variante\",\n",
    "        \"rate\": \"Relative Häufigkeit\",\n",
    "        \"count\": \"Absolute Häufigkeit\"\n",
    "    }),\n",
    "    \"deviations_by_rate\", \n",
    "    caption=\"Schreibvarianten nach relativer Häufigkeit (> 1\\\\%)\", \n",
    "    heatmap=False, axis=None\n",
    ")\n",
    "deviations_by_rate"
   ]
  },
  {
   "cell_type": "markdown",
   "id": "854932a4-993d-4d69-b7ac-23a639a36b46",
   "metadata": {},
   "source": [
    "Or we can look at the 10 most frequent deviations in the Mesokemic dialect:"
   ]
  },
  {
   "cell_type": "code",
   "execution_count": 53,
   "id": "85697f5b-cc31-4c28-b2a6-eb8d79401c68",
   "metadata": {},
   "outputs": [
    {
     "ename": "KeyError",
     "evalue": "'input'",
     "output_type": "error",
     "traceback": [
      "\u001b[0;31m---------------------------------------------------------------------------\u001b[0m",
      "\u001b[0;31mKeyError\u001b[0m                                  Traceback (most recent call last)",
      "\u001b[0;32m/tmp/ipykernel_2319506/3356810347.py\u001b[0m in \u001b[0;36m?\u001b[0;34m()\u001b[0m\n\u001b[0;32m----> 1\u001b[0;31m \u001b[0mget_df_deviations\u001b[0m\u001b[0;34m(\u001b[0m\u001b[0mdf_diff\u001b[0m\u001b[0;34m[\u001b[0m\u001b[0mdf_diff\u001b[0m\u001b[0;34m[\u001b[0m\u001b[0;34m\"dialect\"\u001b[0m\u001b[0;34m]\u001b[0m \u001b[0;34m==\u001b[0m \u001b[0;34m\"M\"\u001b[0m\u001b[0;34m]\u001b[0m\u001b[0;34m,\u001b[0m \u001b[0mthreshold\u001b[0m \u001b[0;34m=\u001b[0m \u001b[0;36m5\u001b[0m\u001b[0;34m)\u001b[0m\u001b[0;34m.\u001b[0m\u001b[0msort_values\u001b[0m\u001b[0;34m(\u001b[0m\u001b[0mby\u001b[0m\u001b[0;34m=\u001b[0m\u001b[0;34m\"rate\"\u001b[0m\u001b[0;34m,\u001b[0m \u001b[0mascending\u001b[0m\u001b[0;34m=\u001b[0m\u001b[0;32mFalse\u001b[0m\u001b[0;34m)\u001b[0m\u001b[0;34m.\u001b[0m\u001b[0mhead\u001b[0m\u001b[0;34m(\u001b[0m\u001b[0;36m10\u001b[0m\u001b[0;34m)\u001b[0m\u001b[0;34m\u001b[0m\u001b[0;34m\u001b[0m\u001b[0m\n\u001b[0m",
      "\u001b[0;32m/tmp/ipykernel_2319506/715628891.py\u001b[0m in \u001b[0;36m?\u001b[0;34m(df_diff, threshold)\u001b[0m\n\u001b[1;32m     28\u001b[0m         \u001b[0mon\u001b[0m\u001b[0;34m=\u001b[0m\u001b[0;34m[\u001b[0m\u001b[0;34m\"input\"\u001b[0m\u001b[0;34m,\u001b[0m \u001b[0;34m\"output\"\u001b[0m\u001b[0;34m]\u001b[0m\u001b[0;34m,\u001b[0m\u001b[0;34m\u001b[0m\u001b[0;34m\u001b[0m\u001b[0m\n\u001b[1;32m     29\u001b[0m         \u001b[0mhow\u001b[0m\u001b[0;34m=\u001b[0m\u001b[0;34m\"outer\"\u001b[0m\u001b[0;34m\u001b[0m\u001b[0;34m\u001b[0m\u001b[0m\n\u001b[1;32m     30\u001b[0m     )\n\u001b[1;32m     31\u001b[0m \u001b[0;34m\u001b[0m\u001b[0m\n\u001b[0;32m---> 32\u001b[0;31m     \u001b[0;32mreturn\u001b[0m \u001b[0mpd\u001b[0m\u001b[0;34m.\u001b[0m\u001b[0mmerge\u001b[0m\u001b[0;34m(\u001b[0m\u001b[0mpd\u001b[0m\u001b[0;34m.\u001b[0m\u001b[0mDataFrame\u001b[0m\u001b[0;34m(\u001b[0m\u001b[0mdeviations\u001b[0m\u001b[0;34m)\u001b[0m\u001b[0;34m,\u001b[0m \u001b[0mdf_date\u001b[0m\u001b[0;34m,\u001b[0m \u001b[0mon\u001b[0m\u001b[0;34m=\u001b[0m\u001b[0;34m[\u001b[0m\u001b[0;34m\"input\"\u001b[0m\u001b[0;34m,\u001b[0m \u001b[0;34m\"output\"\u001b[0m\u001b[0;34m]\u001b[0m\u001b[0;34m,\u001b[0m \u001b[0mhow\u001b[0m\u001b[0;34m=\u001b[0m\u001b[0;34m\"left\"\u001b[0m\u001b[0;34m)\u001b[0m\u001b[0;34m\u001b[0m\u001b[0;34m\u001b[0m\u001b[0m\n\u001b[0m",
      "\u001b[0;32m/nix/store/k3mq55c670cyyk752lqzv0zkkah1b6fg-python3-3.11.8-env/lib/python3.11/site-packages/pandas/core/reshape/merge.py\u001b[0m in \u001b[0;36m?\u001b[0;34m(left, right, how, on, left_on, right_on, left_index, right_index, sort, suffixes, copy, indicator, validate)\u001b[0m\n\u001b[1;32m    166\u001b[0m             \u001b[0mvalidate\u001b[0m\u001b[0;34m=\u001b[0m\u001b[0mvalidate\u001b[0m\u001b[0;34m,\u001b[0m\u001b[0;34m\u001b[0m\u001b[0;34m\u001b[0m\u001b[0m\n\u001b[1;32m    167\u001b[0m             \u001b[0mcopy\u001b[0m\u001b[0;34m=\u001b[0m\u001b[0mcopy\u001b[0m\u001b[0;34m,\u001b[0m\u001b[0;34m\u001b[0m\u001b[0;34m\u001b[0m\u001b[0m\n\u001b[1;32m    168\u001b[0m         )\n\u001b[1;32m    169\u001b[0m     \u001b[0;32melse\u001b[0m\u001b[0;34m:\u001b[0m\u001b[0;34m\u001b[0m\u001b[0;34m\u001b[0m\u001b[0m\n\u001b[0;32m--> 170\u001b[0;31m         op = _MergeOperation(\n\u001b[0m\u001b[1;32m    171\u001b[0m             \u001b[0mleft_df\u001b[0m\u001b[0;34m,\u001b[0m\u001b[0;34m\u001b[0m\u001b[0;34m\u001b[0m\u001b[0m\n\u001b[1;32m    172\u001b[0m             \u001b[0mright_df\u001b[0m\u001b[0;34m,\u001b[0m\u001b[0;34m\u001b[0m\u001b[0;34m\u001b[0m\u001b[0m\n\u001b[1;32m    173\u001b[0m             \u001b[0mhow\u001b[0m\u001b[0;34m=\u001b[0m\u001b[0mhow\u001b[0m\u001b[0;34m,\u001b[0m\u001b[0;34m\u001b[0m\u001b[0;34m\u001b[0m\u001b[0m\n",
      "\u001b[0;32m/nix/store/k3mq55c670cyyk752lqzv0zkkah1b6fg-python3-3.11.8-env/lib/python3.11/site-packages/pandas/core/reshape/merge.py\u001b[0m in \u001b[0;36m?\u001b[0;34m(self, left, right, how, on, left_on, right_on, left_index, right_index, sort, suffixes, indicator, validate)\u001b[0m\n\u001b[1;32m    790\u001b[0m             \u001b[0mself\u001b[0m\u001b[0;34m.\u001b[0m\u001b[0mright_join_keys\u001b[0m\u001b[0;34m,\u001b[0m\u001b[0;34m\u001b[0m\u001b[0;34m\u001b[0m\u001b[0m\n\u001b[1;32m    791\u001b[0m             \u001b[0mself\u001b[0m\u001b[0;34m.\u001b[0m\u001b[0mjoin_names\u001b[0m\u001b[0;34m,\u001b[0m\u001b[0;34m\u001b[0m\u001b[0;34m\u001b[0m\u001b[0m\n\u001b[1;32m    792\u001b[0m             \u001b[0mleft_drop\u001b[0m\u001b[0;34m,\u001b[0m\u001b[0;34m\u001b[0m\u001b[0;34m\u001b[0m\u001b[0m\n\u001b[1;32m    793\u001b[0m             \u001b[0mright_drop\u001b[0m\u001b[0;34m,\u001b[0m\u001b[0;34m\u001b[0m\u001b[0;34m\u001b[0m\u001b[0m\n\u001b[0;32m--> 794\u001b[0;31m         ) = self._get_merge_keys()\n\u001b[0m\u001b[1;32m    795\u001b[0m \u001b[0;34m\u001b[0m\u001b[0m\n\u001b[1;32m    796\u001b[0m         \u001b[0;32mif\u001b[0m \u001b[0mleft_drop\u001b[0m\u001b[0;34m:\u001b[0m\u001b[0;34m\u001b[0m\u001b[0;34m\u001b[0m\u001b[0m\n\u001b[1;32m    797\u001b[0m             \u001b[0mself\u001b[0m\u001b[0;34m.\u001b[0m\u001b[0mleft\u001b[0m \u001b[0;34m=\u001b[0m \u001b[0mself\u001b[0m\u001b[0;34m.\u001b[0m\u001b[0mleft\u001b[0m\u001b[0;34m.\u001b[0m\u001b[0m_drop_labels_or_levels\u001b[0m\u001b[0;34m(\u001b[0m\u001b[0mleft_drop\u001b[0m\u001b[0;34m)\u001b[0m\u001b[0;34m\u001b[0m\u001b[0;34m\u001b[0m\u001b[0m\n",
      "\u001b[0;32m/nix/store/k3mq55c670cyyk752lqzv0zkkah1b6fg-python3-3.11.8-env/lib/python3.11/site-packages/pandas/core/reshape/merge.py\u001b[0m in \u001b[0;36m?\u001b[0;34m(self)\u001b[0m\n\u001b[1;32m   1306\u001b[0m                     \u001b[0;32mif\u001b[0m \u001b[0mlk\u001b[0m \u001b[0;32mis\u001b[0m \u001b[0;32mnot\u001b[0m \u001b[0;32mNone\u001b[0m\u001b[0;34m:\u001b[0m\u001b[0;34m\u001b[0m\u001b[0;34m\u001b[0m\u001b[0m\n\u001b[1;32m   1307\u001b[0m                         \u001b[0;31m# Then we're either Hashable or a wrong-length arraylike,\u001b[0m\u001b[0;34m\u001b[0m\u001b[0;34m\u001b[0m\u001b[0m\n\u001b[1;32m   1308\u001b[0m                         \u001b[0;31m#  the latter of which will raise\u001b[0m\u001b[0;34m\u001b[0m\u001b[0;34m\u001b[0m\u001b[0m\n\u001b[1;32m   1309\u001b[0m                         \u001b[0mlk\u001b[0m \u001b[0;34m=\u001b[0m \u001b[0mcast\u001b[0m\u001b[0;34m(\u001b[0m\u001b[0mHashable\u001b[0m\u001b[0;34m,\u001b[0m \u001b[0mlk\u001b[0m\u001b[0;34m)\u001b[0m\u001b[0;34m\u001b[0m\u001b[0;34m\u001b[0m\u001b[0m\n\u001b[0;32m-> 1310\u001b[0;31m                         \u001b[0mleft_keys\u001b[0m\u001b[0;34m.\u001b[0m\u001b[0mappend\u001b[0m\u001b[0;34m(\u001b[0m\u001b[0mleft\u001b[0m\u001b[0;34m.\u001b[0m\u001b[0m_get_label_or_level_values\u001b[0m\u001b[0;34m(\u001b[0m\u001b[0mlk\u001b[0m\u001b[0;34m)\u001b[0m\u001b[0;34m)\u001b[0m\u001b[0;34m\u001b[0m\u001b[0;34m\u001b[0m\u001b[0m\n\u001b[0m\u001b[1;32m   1311\u001b[0m                         \u001b[0mjoin_names\u001b[0m\u001b[0;34m.\u001b[0m\u001b[0mappend\u001b[0m\u001b[0;34m(\u001b[0m\u001b[0mlk\u001b[0m\u001b[0;34m)\u001b[0m\u001b[0;34m\u001b[0m\u001b[0;34m\u001b[0m\u001b[0m\n\u001b[1;32m   1312\u001b[0m                     \u001b[0;32melse\u001b[0m\u001b[0;34m:\u001b[0m\u001b[0;34m\u001b[0m\u001b[0;34m\u001b[0m\u001b[0m\n\u001b[1;32m   1313\u001b[0m                         \u001b[0;31m# work-around for merge_asof(left_index=True)\u001b[0m\u001b[0;34m\u001b[0m\u001b[0;34m\u001b[0m\u001b[0m\n",
      "\u001b[0;32m/nix/store/k3mq55c670cyyk752lqzv0zkkah1b6fg-python3-3.11.8-env/lib/python3.11/site-packages/pandas/core/generic.py\u001b[0m in \u001b[0;36m?\u001b[0;34m(self, key, axis)\u001b[0m\n\u001b[1;32m   1906\u001b[0m             \u001b[0mvalues\u001b[0m \u001b[0;34m=\u001b[0m \u001b[0mself\u001b[0m\u001b[0;34m.\u001b[0m\u001b[0mxs\u001b[0m\u001b[0;34m(\u001b[0m\u001b[0mkey\u001b[0m\u001b[0;34m,\u001b[0m \u001b[0maxis\u001b[0m\u001b[0;34m=\u001b[0m\u001b[0mother_axes\u001b[0m\u001b[0;34m[\u001b[0m\u001b[0;36m0\u001b[0m\u001b[0;34m]\u001b[0m\u001b[0;34m)\u001b[0m\u001b[0;34m.\u001b[0m\u001b[0m_values\u001b[0m\u001b[0;34m\u001b[0m\u001b[0;34m\u001b[0m\u001b[0m\n\u001b[1;32m   1907\u001b[0m         \u001b[0;32melif\u001b[0m \u001b[0mself\u001b[0m\u001b[0;34m.\u001b[0m\u001b[0m_is_level_reference\u001b[0m\u001b[0;34m(\u001b[0m\u001b[0mkey\u001b[0m\u001b[0;34m,\u001b[0m \u001b[0maxis\u001b[0m\u001b[0;34m=\u001b[0m\u001b[0maxis\u001b[0m\u001b[0;34m)\u001b[0m\u001b[0;34m:\u001b[0m\u001b[0;34m\u001b[0m\u001b[0;34m\u001b[0m\u001b[0m\n\u001b[1;32m   1908\u001b[0m             \u001b[0mvalues\u001b[0m \u001b[0;34m=\u001b[0m \u001b[0mself\u001b[0m\u001b[0;34m.\u001b[0m\u001b[0maxes\u001b[0m\u001b[0;34m[\u001b[0m\u001b[0maxis\u001b[0m\u001b[0;34m]\u001b[0m\u001b[0;34m.\u001b[0m\u001b[0mget_level_values\u001b[0m\u001b[0;34m(\u001b[0m\u001b[0mkey\u001b[0m\u001b[0;34m)\u001b[0m\u001b[0;34m.\u001b[0m\u001b[0m_values\u001b[0m\u001b[0;34m\u001b[0m\u001b[0;34m\u001b[0m\u001b[0m\n\u001b[1;32m   1909\u001b[0m         \u001b[0;32melse\u001b[0m\u001b[0;34m:\u001b[0m\u001b[0;34m\u001b[0m\u001b[0;34m\u001b[0m\u001b[0m\n\u001b[0;32m-> 1910\u001b[0;31m             \u001b[0;32mraise\u001b[0m \u001b[0mKeyError\u001b[0m\u001b[0;34m(\u001b[0m\u001b[0mkey\u001b[0m\u001b[0;34m)\u001b[0m\u001b[0;34m\u001b[0m\u001b[0;34m\u001b[0m\u001b[0m\n\u001b[0m\u001b[1;32m   1911\u001b[0m \u001b[0;34m\u001b[0m\u001b[0m\n\u001b[1;32m   1912\u001b[0m         \u001b[0;31m# Check for duplicates\u001b[0m\u001b[0;34m\u001b[0m\u001b[0;34m\u001b[0m\u001b[0m\n\u001b[1;32m   1913\u001b[0m         \u001b[0;32mif\u001b[0m \u001b[0mvalues\u001b[0m\u001b[0;34m.\u001b[0m\u001b[0mndim\u001b[0m \u001b[0;34m>\u001b[0m \u001b[0;36m1\u001b[0m\u001b[0;34m:\u001b[0m\u001b[0;34m\u001b[0m\u001b[0;34m\u001b[0m\u001b[0m\n",
      "\u001b[0;31mKeyError\u001b[0m: 'input'"
     ]
    }
   ],
   "source": [
    "get_df_deviations(df_diff[df_diff[\"dialect\"] == \"M\"], threshold = 5).sort_values(by=\"rate\", ascending=False).head(10)"
   ]
  },
  {
   "cell_type": "markdown",
   "id": "a6d46536-cb52-482e-9eb1-ea4c842fc9b0",
   "metadata": {},
   "source": [
    "We can also look at the deviations in chronological order (after filtering out all deviations that lack a date):"
   ]
  },
  {
   "cell_type": "code",
   "execution_count": null,
   "id": "cb558cbc-8948-444a-b2c5-0b9645385155",
   "metadata": {},
   "outputs": [],
   "source": [
    "pd.set_option('display.max_rows', 100)\n",
    "deviations_by_date = all_deviations.sort_values(by=\"date_median\").dropna(subset={\"date_median\"})\n",
    "write_table(\n",
    "    deviations_by_date[[\"date_median\", \"input\", \"output\"]].rename(columns={\n",
    "        \"input\": \"Norm\",\n",
    "        \"output\": \"Variante\",\n",
    "        \"date_median\": \"Median-Belegdatum\"\n",
    "    }), \n",
    "    \"deviations_by_date\", \n",
    "    caption=\"Schreibvarianten nach Median-Belegdatum\", \n",
    "    heatmap=False, axis=None\n",
    ")\n",
    "deviations_by_date"
   ]
  },
  {
   "cell_type": "markdown",
   "id": "6b910bf1-df23-465a-807f-8afc4286da15",
   "metadata": {},
   "source": [
    "Many of the most frequent deviations affect vocalic graphemes, with many vocalic graphemes recurring throughout multiple deviations.\n",
    "We might therefore want to show a \"confusion matrix\" with the vocalic graphemes as rows and columns, and the rate of their specific deviation in the matrix entries."
   ]
  },
  {
   "cell_type": "code",
   "execution_count": null,
   "id": "329f25ec-d202-4167-8f53-27863cb7a1d3",
   "metadata": {
    "scrolled": true
   },
   "outputs": [],
   "source": [
    "is_completely_vocalic = lambda x: all(c in vowels for c in x)\n",
    "all_vowel_deviations = all_deviations[all_deviations[\"input\"].apply(is_completely_vocalic) & all_deviations[\"output\"].apply(is_completely_vocalic)]\n",
    "vowel_matrix = pd.crosstab(all_vowel_deviations['input'], all_vowel_deviations['output'], values=all_vowel_deviations['rate'], aggfunc='sum').fillna(0)\n",
    "write_table(vowel_matrix, \"vowel_matrix\", \n",
    "            caption=\"Relative Häufigkeit vokalischer Schreibvarianten\", \n",
    "            heatmap=True, axis=None)\n",
    "vowel_matrix.style.background_gradient(axis=None, cmap=cm)"
   ]
  },
  {
   "cell_type": "markdown",
   "id": "47600373-3b3f-4981-abfb-380dcf98c8b8",
   "metadata": {},
   "source": [
    "We can do the same thing plotting the median date of attestation instead of the rate:"
   ]
  },
  {
   "cell_type": "code",
   "execution_count": null,
   "id": "31072358-3302-4031-bbd5-dc3a1d0d6729",
   "metadata": {},
   "outputs": [],
   "source": [
    "all_dated_deviations = all_vowel_deviations.dropna(subset={\"date_median\"})\n",
    "dated_vowel_matrix = pd.crosstab(\n",
    "    all_dated_deviations['input'], \n",
    "    all_dated_deviations['output'],\n",
    "    values=all_dated_deviations['date_median'], \n",
    "    aggfunc='sum'\n",
    ")\n",
    "write_table(dated_vowel_matrix, \"dated_vowel_matrix\", \n",
    "            caption=\"Median-Belegdatum vokalischer Schreibvarianten\", \n",
    "            heatmap=True, axis=None)\n",
    "dated_vowel_matrix.style.background_gradient(axis=None, cmap=cm)"
   ]
  },
  {
   "cell_type": "markdown",
   "id": "fd5ac5f9-6626-4f63-bcc7-23a6e526a3d7",
   "metadata": {},
   "source": [
    "And we can unify both presentations by displaying a graph of the vocalic deviations.\n",
    "The nodes encode the vocalic graphemes, the edges encode the presence of a deviation between them.\n",
    "The wider an edge is, the more frequent (rate) is the deviation,\n",
    "the brighter it is, the later is its median date of attestation."
   ]
  },
  {
   "cell_type": "code",
   "execution_count": null,
   "id": "76b81635-13c4-4d2f-bd4f-d5d1d5efdea7",
   "metadata": {},
   "outputs": [],
   "source": [
    "graph = nx.from_pandas_edgelist(all_vowel_deviations, source=\"input\", target=\"output\", edge_attr=[\"rate\", \"date_median\"], create_using=nx.DiGraph)\n",
    "\n",
    "pos = nx.spring_layout(\n",
    "    graph,\n",
    "    weight=\"rate\",\n",
    "    seed=12\n",
    ")\n",
    "\n",
    "date_median = all_vowel_deviations[\"date_median\"]\n",
    "scale = lambda x: (x - date_median.min()) / (date_median.max() - date_median.min())\n",
    "\n",
    "# Draw the graph\n",
    "plt.figure(figsize=(6, 6))\n",
    "nx.draw(\n",
    "    graph,\n",
    "    pos,\n",
    "    with_labels=True,\n",
    "    width=[graph[u][v]['rate'] * 5 for u, v in graph.edges()],\n",
    "    edge_color=[\n",
    "        plt.get_cmap(\"viridis\")(\n",
    "            scale(graph[u][v][\"date_median\"])\n",
    "        )\n",
    "        if graph[u][v][\"date_median\"] else \"black\"\n",
    "        for u, v in graph.edges()\n",
    "    ],\n",
    "    font_family=\"Antinoou\",\n",
    "    font_color=\"white\",\n",
    "    node_color=\"black\"\n",
    ")\n",
    "plt.show()\n",
    "write_figure(\"vowels_graph\")"
   ]
  },
  {
   "cell_type": "markdown",
   "id": "078aa951-47e1-4e5a-8215-10256eb7183b",
   "metadata": {},
   "source": [
    "# Playground"
   ]
  },
  {
   "cell_type": "code",
   "execution_count": null,
   "id": "0748cf47-7821-4d4b-8f7e-6b3a526b02d0",
   "metadata": {},
   "outputs": [],
   "source": [
    "vowel = (\"ⲁ\", \"ⲉ\", \"ⲓ\", \"ⲟ\", \"ⲩ\", \"ⲏ\", \"ⲱ\")\n",
    "vowel_or_spiritus = tuple([*vowel, *map(lambda x: \"ϩ\" + x, vowel)])\n",
    "vocalic_initial = df_simple[df_simple[\"greek_lemma\"].str.startswith(vowel_or_spiritus) & df_simple[\"orthography_clean\"].str.startswith(vowel_or_spiritus)]\n",
    "vocalic_initial[\"greek_h\"] = vocalic_initial[\"greek_lemma\"].str.startswith(\"ϩ\")\n",
    "vocalic_initial[\"coptic_h\"] = vocalic_initial[\"orthography_clean\"].str.startswith(\"ϩ\")"
   ]
  },
  {
   "cell_type": "code",
   "execution_count": null,
   "id": "f4a17557-aae5-4ead-afbf-306519284bc1",
   "metadata": {},
   "outputs": [],
   "source": [
    "pd.crosstab(vocalic_initial[\"greek_h\"], vocalic_initial[\"coptic_h\"])"
   ]
  },
  {
   "cell_type": "code",
   "execution_count": null,
   "id": "241e1c40-7b4c-4916-83b4-0e0cd48d2e5f",
   "metadata": {},
   "outputs": [],
   "source": []
  },
  {
   "cell_type": "code",
   "execution_count": null,
   "id": "1743d145-3028-4074-8021-f8f21b18303e",
   "metadata": {},
   "outputs": [],
   "source": [
    "pd.DataFrame(\n",
    "    list(get_required_edits(\"ⲁⲣⲉⲧⲏ\", \"ⲁⲣⲏⲧⲉ\"))\n",
    "    + list(get_required_edits(\"ϩⲩⲡⲟⲙⲉⲛⲱ\", \"ϩⲩⲡⲟⲙⲓⲛⲉ\"))\n",
    ")"
   ]
  },
  {
   "cell_type": "code",
   "execution_count": null,
   "id": "d84346b9-7b99-443c-9701-2166e0b461c0",
   "metadata": {},
   "outputs": [],
   "source": [
    "# df.loc[df_diff[(df_diff[\"input\"] == \"ⲭ\") & (df_diff[\"output\"] == \"ϫ\")].index][\"quote_coptic\"]\n",
    "\n",
    "# df_diff[(df_diff[\"input\"] == \"∅\") & (df_diff[\"output\"] == \"ⲉ\") & (df_diff[\"date_approximate\"])].sample(10)"
   ]
  }
 ],
 "metadata": {
  "kernelspec": {
   "display_name": "Python 3 (ipykernel)",
   "language": "python",
   "name": "python3"
  },
  "language_info": {
   "codemirror_mode": {
    "name": "ipython",
    "version": 3
   },
   "file_extension": ".py",
   "mimetype": "text/x-python",
   "name": "python",
   "nbconvert_exporter": "python",
   "pygments_lexer": "ipython3",
   "version": "3.11.8"
  }
 },
 "nbformat": 4,
 "nbformat_minor": 5
}
