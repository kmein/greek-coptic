{
 "cells": [
  {
   "cell_type": "code",
   "execution_count": 1,
   "id": "1731b12b-71e9-4861-a5de-6e41833fcc76",
   "metadata": {},
   "outputs": [],
   "source": [
    "import pandas as pd\n",
    "import matplotlib.pyplot as plt\n",
    "import seaborn as sns\n",
    "import numpy as np\n",
    "import tabulate\n",
    "from  matplotlib.ticker import FuncFormatter\n",
    "import os\n",
    "from pathlib import Path\n",
    "\n",
    "sns.set_style(\"whitegrid\")\n",
    "pd.set_option(\"styler.format.decimal\", \",\")\n",
    "pd.set_option(\"styler.format.precision\", 2)\n",
    "pd.set_option(\"styler.format.na_rep\", \"–\")\n",
    "cm = plt.cm.YlOrRd\n",
    "\n",
    "subdirectory = Path(\"assets\")\n",
    "subdirectory.mkdir(exist_ok=True)\n",
    "\n",
    "def write_figure(the_name):\n",
    "    plt.savefig(subdirectory / f\"figure-{the_name}.svg\")\n",
    "\n",
    "def write_table(df, the_name, caption=\"\", heatmap=False, axis=None):\n",
    "    style = df.style if not heatmap else df.style.background_gradient(axis=axis, cmap=cm)\n",
    "    with (subdirectory / f\"table-{the_name}.tex\").open(mode=\"w\") as f:\n",
    "        f.write(\n",
    "            (style).highlight_null(props=\"background-color:white; color:white;\").to_latex(\n",
    "                convert_css=True, \n",
    "                hrules=True,\n",
    "                sparse_index=False,\n",
    "                environment=\"longtable\", \n",
    "                position=\"!hbt\", \n",
    "                caption=caption, \n",
    "                label=\"tbl:\"+the_name\n",
    "            )\n",
    "        )\n",
    "    with (subdirectory / f\"table-{the_name}.html\").open(mode=\"w\") as f:\n",
    "        f.write((style).highlight_null(props=\"opacity:0\").to_html(sparse_index=False))\n",
    "    with (subdirectory / f\"table-{the_name}.md\").open(mode=\"w\") as f:\n",
    "        if caption:\n",
    "            f.write(f\"Table: {caption}\\n\\n\")\n",
    "        f.write(df.to_markdown(floatfmt=\".2f\").replace(\"nan\", \"\\u00a0\").replace(\".00\", \"   \").replace(\".\", \",\")) #ma"
   ]
  },
  {
   "cell_type": "code",
   "execution_count": 2,
   "id": "713ce507-9443-48d7-ab5d-42d2ab037145",
   "metadata": {},
   "outputs": [
    {
     "name": "stdout",
     "output_type": "stream",
     "text": [
      "ⲟⲩϫⲁⲓ ⲡⲕⲟⲥⲙⲟⲥ!\n"
     ]
    }
   ],
   "source": [
    "print(\"ⲟⲩϫⲁⲓ ⲡⲕⲟⲥⲙⲟⲥ!\")"
   ]
  }
 ],
 "metadata": {
  "kernelspec": {
   "display_name": "Python 3 (ipykernel)",
   "language": "python",
   "name": "python3"
  },
  "language_info": {
   "codemirror_mode": {
    "name": "ipython",
    "version": 3
   },
   "file_extension": ".py",
   "mimetype": "text/x-python",
   "name": "python",
   "nbconvert_exporter": "python",
   "pygments_lexer": "ipython3",
   "version": "3.11.8"
  }
 },
 "nbformat": 4,
 "nbformat_minor": 5
}
